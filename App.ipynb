{
 "cells": [
  {
   "cell_type": "code",
   "execution_count": 91,
   "id": "a8b2dfa5",
   "metadata": {},
   "outputs": [],
   "source": [
    "from tkinter import *\n",
    "import numpy as np"
   ]
  },
  {
   "cell_type": "code",
   "execution_count": 92,
   "id": "1b6f2104",
   "metadata": {},
   "outputs": [],
   "source": [
    "team1 = ['1 Accurate Long Balls', '1 Corners', '1 Dribbles Attempted',\n",
    "       '1 Dribbles Succeeded', '1 Fouls Conceded', '1 Goals',\n",
    "       '1 Interceptions', '1 Long Balls', '1 Offsides', '1 Pass Completion',\n",
    "       '1 Possession', '1 Red Cards', '1 Shots', '1 Shots Blocked',\n",
    "       '1 Shots woodwork', '1 Tackles Attempted', '1 Throws', '1 Total Passes',\n",
    "       '1 Total Shots on Target', '1 Total xG', '1 Yellow Cards']\n",
    "team2 = ['2 Accurate Long Balls', '2 Corners', '2 Dribbles Attempted',\n",
    "       '2 Dribbles Succeeded', '2 Fouls Conceded', '2 Goals',\n",
    "       '2 Interceptions', '2 Long Balls', '2 Offsides', '2 Pass Completion',\n",
    "       '2 Possession', '2 Red Cards', '2 Shots', '2 Shots Blocked',\n",
    "       '2 Shots woodwork', '2 Tackles Attempted', '2 Throws', '2 Total Passes',\n",
    "       '2 Total Shots on Target', '2 Total xG', '2 Yellow Cards']"
   ]
  },
  {
   "cell_type": "code",
   "execution_count": 87,
   "id": "506fd47d",
   "metadata": {
    "scrolled": true
   },
   "outputs": [],
   "source": [
    "height = 750\n",
    "width = 700\n",
    "window = Tk()\n",
    "window.configure(background = 'black')\n",
    "window.geometry(f'{height}x{width}')\n",
    "\n",
    "l = Label (window, text = 'Input Game Stats:', bg = 'white', fg = 'black', font = 'none 20 bold')\n",
    "l.place(x=width/2, y=25)\n",
    "\n",
    "entries = []\n",
    "\n",
    "for i in range(len(team1)):\n",
    "    cv = Entry(window)\n",
    "    cv.place(x = width/3, y = i * 20 + 100)\n",
    "    entries.append(cv)\n",
    "    cvlab = Label(window, text = team1[i], bg = 'white', borderwidth = 1, relief=\"raised\")\n",
    "    cvlab.place(x = width/10, y = i * 20 + 100)\n",
    "\n",
    "for i in range(len(team2)):\n",
    "    cv = Entry(window)\n",
    "    cv.place(x = width*8/10, y = i * 20 + 100)\n",
    "    entries.append(cv)\n",
    "    cvlab = Label(window, text = team2[i])\n",
    "    cvlab.place(x = width*6/10, y = i * 20 + 100)\n",
    "\n",
    "def stats():\n",
    "    features = []\n",
    "    for entry in entries:\n",
    "        features.append(entry.get())\n",
    "    fm = np.array(features).reshape(-1,1)\n",
    "        \n",
    "button=Button(window,text=\"Calculate Odds\",command=stats)\n",
    "button.place(x = 350, y = 620)\n",
    "\n",
    "window.mainloop()"
   ]
  }
 ],
 "metadata": {
  "kernelspec": {
   "display_name": "Python 3",
   "language": "python",
   "name": "python3"
  },
  "language_info": {
   "codemirror_mode": {
    "name": "ipython",
    "version": 3
   },
   "file_extension": ".py",
   "mimetype": "text/x-python",
   "name": "python",
   "nbconvert_exporter": "python",
   "pygments_lexer": "ipython3",
   "version": "3.8.8"
  }
 },
 "nbformat": 4,
 "nbformat_minor": 5
}
