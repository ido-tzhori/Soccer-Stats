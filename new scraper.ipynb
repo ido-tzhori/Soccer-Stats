{
 "cells": [
  {
   "cell_type": "code",
   "execution_count": 389,
   "id": "73f359c5",
   "metadata": {},
   "outputs": [],
   "source": [
    "from selenium import webdriver\n",
    "import pandas as pd\n",
    "import numpy as np\n",
    "from selenium.webdriver.common.by import By\n",
    "import random\n",
    "from datetime import datetime, timedelta\n",
    "import pickle\n",
    "from fuzzywuzzy import fuzz, process\n",
    "from fractions import Fraction\n",
    "import time"
   ]
  },
  {
   "cell_type": "code",
   "execution_count": 155,
   "id": "631e09b0",
   "metadata": {},
   "outputs": [],
   "source": [
    "def getname(name, l):\n",
    "    if len(l) == 0:\n",
    "        return ''\n",
    "    highest = process.extractOne(name,l)\n",
    "    return highest[0]"
   ]
  },
  {
   "cell_type": "code",
   "execution_count": 241,
   "id": "cdcf9da9",
   "metadata": {},
   "outputs": [],
   "source": [
    "global oddschecker\n",
    "oddschecker = 'https://www.oddschecker.com/football/'"
   ]
  },
  {
   "cell_type": "code",
   "execution_count": 426,
   "id": "563eb2e5",
   "metadata": {},
   "outputs": [],
   "source": [
    "def get_stats(driver, url):\n",
    "    #add time.sleep maybe wait condition\n",
    "    driver.implicitly_wait(random.randint(0, 6))\n",
    "    driver.get(url)\n",
    "    ht = driver.find_elements(By.XPATH, '//span[@class=\"css-8ngw4i-bottomRow\"]')[1].text\n",
    "    if ht != 'Half-Time':\n",
    "        time.sleep(3 * 60)\n",
    "        ht = driver.find_elements(By.XPATH, '//span[@class=\"css-8ngw4i-bottomRow\"]')[1].text\n",
    "    button = driver.find_elements(By.XPATH, '(//button[@class=\"css-12l9xvx-ExpandButton e7i6a0l0\"])[2]')[0]\n",
    "    button.click()\n",
    "    div1 = driver.find_elements(By.XPATH, '//li[@class=\"css-radwzz-Stat e683amr6\"]')\n",
    "    t = {k[1]: [k[0], k[2]] for k in [i.split('\\n') for i in [x for x in [d.text for d in div1]\n",
    "          if x not in ['Shots','Passes','Expected goals (xG)','Discipline','Defence','Duels']]]}\n",
    "    score = driver.find_element(By.XPATH, '//span[@class=\"css-bw7eig-topRow\"]').get_attribute('textContent').split(' ')\n",
    "    t['score'] = [score[0], score[2]]\n",
    "    posession = driver.find_element(By.XPATH, '//div[@class=\"css-7s52se-PossessionWheel e683amr3\"]').text.split('\\n')\n",
    "    t['posession'] = [posession[1].replace('%',''), posession[2].replace('%','')]\n",
    "    game_stats = {}\n",
    "    for name, stats in t.items():\n",
    "        if '(' in ''.join(stats):\n",
    "            s = stats[0].split(' ') + stats[1].split(' ')\n",
    "            if len(s) == 4:\n",
    "                s = [i.replace('(', '').replace(')','').replace('%','') for i in s]\n",
    "                game_stats[name] = [s[0], s[2]]\n",
    "                game_stats[name + ' percentage'] = [int(s[1])/100, int(s[3])/100]\n",
    "            else:\n",
    "                s = [i for i in s if '%' not in i]\n",
    "                game_stats[name] = s\n",
    "        else:\n",
    "            game_stats[name] = stats\n",
    "    game_stats = {k: float(v[0]) - float(v[1]) for k, v in game_stats.items()}\n",
    "    game_stats['match_name'] = url.split('/')[-1]\n",
    "    game_stats['half_time'] = ht\n",
    "    return game_stats"
   ]
  },
  {
   "cell_type": "code",
   "execution_count": 398,
   "id": "3c260797",
   "metadata": {
    "scrolled": true
   },
   "outputs": [
    {
     "data": {
      "text/plain": [
       "{'Expected goals (xG)': 0.25,\n",
       " 'Total shots': 4.0,\n",
       " 'Big chances': 0.0,\n",
       " 'Big chances missed': 1.0,\n",
       " 'Accurate passes': 108.0,\n",
       " 'Accurate passes percentage': 0.07999999999999996,\n",
       " 'Fouls committed': -3.0,\n",
       " 'Offsides': 0.0,\n",
       " 'Corners': 2.0,\n",
       " 'Shots off target': -2.0,\n",
       " 'Shots on target': 1.0,\n",
       " 'Blocked shots': 5.0,\n",
       " 'Hit woodwork': 0.0,\n",
       " 'Shots inside box': 6.0,\n",
       " 'Shots outside box': -2.0,\n",
       " 'xG open play': -0.17000000000000004,\n",
       " 'xG set play': 0.42,\n",
       " 'xG on target (xGOT)': -0.55,\n",
       " 'Passes': 115.0,\n",
       " 'Own half': 55.0,\n",
       " 'Opposition half': 53.0,\n",
       " 'Accurate long balls': 10.0,\n",
       " 'Accurate long balls percentage': 0.22999999999999993,\n",
       " 'Accurate crosses': 1.0,\n",
       " 'Accurate crosses percentage': 0.15000000000000002,\n",
       " 'Throws': 4.0,\n",
       " 'Yellow cards': -2.0,\n",
       " 'Red cards': 0.0,\n",
       " 'Tackles won': -1.0,\n",
       " 'Tackles won percentage': -0.24000000000000005,\n",
       " 'Interceptions': -3.0,\n",
       " 'Blocks': -2.0,\n",
       " 'Clearances': 3.0,\n",
       " 'Keeper saves': -2.0,\n",
       " 'Duels won': 7.0,\n",
       " 'Ground duels won': 3.0,\n",
       " 'Ground duels won percentage': 0.12000000000000005,\n",
       " 'Aerial duels won': 4.0,\n",
       " 'Aerial duels won percentage': 0.5,\n",
       " 'Successful dribbles': 1.0,\n",
       " 'Successful dribbles percentage': 0.25,\n",
       " 'score': -1.0,\n",
       " 'posession': 28.0,\n",
       " 'match_name': 'toluca-vs-puebla',\n",
       " 'half_time': 'Half-Time'}"
      ]
     },
     "execution_count": 398,
     "metadata": {},
     "output_type": "execute_result"
    }
   ],
   "source": [
    "get_stats(webdriver.Chrome(), 'https://www.fotmob.com/match/3888506/matchfacts/toluca-vs-puebla')"
   ]
  },
  {
   "cell_type": "code",
   "execution_count": 399,
   "id": "97c44d5d",
   "metadata": {},
   "outputs": [],
   "source": [
    "xg_leagues = {'UNITED STATES - MAJOR LEAGUE SOCCER':'world/usa/mls','ENGLAND - CHAMPIONSHIP':'english/championship',\n",
    "              'ENGLAND - PREMIER LEAGUE': 'english/premier-league', 'GERMANY - BUNDESLIGA': 'germany/bundesliga',\n",
    "              'FRANCE - LIGUE 1': 'france/ligue-1','AUSTRIA - BUNDESLIGA': 'austria/bundesliga',\n",
    "              'PORTUGAL - LIGA PORTUGAL':'portugal/primeira-liga', 'BELGIUM - FIRST DIVISION A':'belgium/jupiler-pro-league',\n",
    "              'SWITZERLAND - SUPER LEAGUE':'switzerland/super-league','SPAIN - LALIGA':'spain/la-liga-primera',\n",
    "             'DENMARK - SUPERLIGAEN':'denmark/superligaen', 'MEXICO - LIGA MX APERTURA':'world/mexico/liga-mx',\n",
    "             'NETHERLANDS - EREDIVISIE':'netherlands/eredivisie'}\n",
    "\n",
    "def fotmob_game_data(driver, url):\n",
    "    driver.implicitly_wait(3)\n",
    "    driver.get(url)\n",
    "    divs = driver.find_elements(By.XPATH, '//div[@class=\"css-1akrvvq-Group e7pc1841\"]')\n",
    "    today = url[-8:]\n",
    "    league = {}\n",
    "    for count, bucket in enumerate(divs):\n",
    "        league_name = bucket.find_elements(By.XPATH, '//a[@class=\"css-vfisw6-GroupTitleLink e7pc1842\"]')[count].text\n",
    "        if league_name not in xg_leagues.keys():\n",
    "            continue\n",
    "        url = bucket.find_elements(By.TAG_NAME, 'a')\n",
    "        urls = [u.get_attribute('href') for u in url]\n",
    "        time = bucket.text\n",
    "        time = [datetime.strptime(i + today, '%H:%M%Y%m%d') + timedelta(minutes=53) for i in time.split('\\n') if ':' in i]\n",
    "        urls = urls[1:]\n",
    "        names = [u.split('/')[-1] for u in urls]\n",
    "        league[league_name] = {n: [u,t] for u, t, n in zip(urls, time, names)}\n",
    "    return league"
   ]
  },
  {
   "cell_type": "code",
   "execution_count": 402,
   "id": "b7d66c9c",
   "metadata": {},
   "outputs": [],
   "source": [
    "game_data = fotmob_game_data(webdriver.Chrome(), 'https://www.fotmob.com/?filter=&show=all&q=&date=20220803')"
   ]
  },
  {
   "cell_type": "code",
   "execution_count": 403,
   "id": "8e0c2203",
   "metadata": {},
   "outputs": [
    {
     "data": {
      "text/plain": [
       "{'UNITED STATES - MAJOR LEAGUE SOCCER': {'charlotte-fc-vs-dc-united': ['https://www.fotmob.com/match/3787562/matchfacts/charlotte-fc-vs-dc-united',\n",
       "   datetime.datetime(2022, 8, 3, 19, 53)],\n",
       "  'columbus-crew-vs-cf-montreal': ['https://www.fotmob.com/match/3787700/matchfacts/columbus-crew-vs-cf-montreal',\n",
       "   datetime.datetime(2022, 8, 3, 20, 23)],\n",
       "  'portland-timbers-vs-nashville-sc': ['https://www.fotmob.com/match/3787560/matchfacts/portland-timbers-vs-nashville-sc',\n",
       "   datetime.datetime(2022, 8, 3, 23, 23)],\n",
       "  'san-jose-earthquakes-vs-inter-miami-cf': ['https://www.fotmob.com/match/3787559/matchfacts/san-jose-earthquakes-vs-inter-miami-cf',\n",
       "   datetime.datetime(2022, 8, 3, 23, 23)]},\n",
       " 'MEXICO - LIGA MX APERTURA': {'fc-juarez-vs-atletico-de-san-luis': ['https://www.fotmob.com/match/3888507/matchfacts/fc-juarez-vs-atletico-de-san-luis',\n",
       "   datetime.datetime(2022, 8, 3, 20, 53)]}}"
      ]
     },
     "execution_count": 403,
     "metadata": {},
     "output_type": "execute_result"
    }
   ],
   "source": [
    "game_data"
   ]
  },
  {
   "cell_type": "code",
   "execution_count": 246,
   "id": "3d14230b",
   "metadata": {},
   "outputs": [],
   "source": [
    "def get_all_odds_links(driver):\n",
    "    odds_links = {}\n",
    "    for f_league, url_league in xg_leagues.items():\n",
    "        driver = webdriver.Chrome()\n",
    "        driver.implicitly_wait(2)\n",
    "        url = oddschecker + url_league\n",
    "        driver.get(url)\n",
    "        divs = driver.find_elements(By.XPATH, '//a[@class=\"beta-callout full-height-link whole-row-link\"]')\n",
    "        mt = []\n",
    "        for div in divs:\n",
    "            odds_url = div.get_attribute('href')\n",
    "            mt.append(odds_url)\n",
    "        odds_links[f_league] = mt\n",
    "    return odds_links"
   ]
  },
  {
   "cell_type": "code",
   "execution_count": 404,
   "id": "743795b9",
   "metadata": {},
   "outputs": [],
   "source": [
    "all_odds = get_all_odds_links(webdriver.Chrome())"
   ]
  },
  {
   "cell_type": "code",
   "execution_count": 405,
   "id": "b1bcda01",
   "metadata": {},
   "outputs": [],
   "source": [
    "def connect_links(data, all_odds):\n",
    "    for l in data.keys():\n",
    "        fotmob_names = data[l].keys()\n",
    "        odds_names = {v: k for k, v in zip(all_odds[l],[str(i).split('/')[-2] for i in all_odds[l]])}\n",
    "        for game in fotmob_names:\n",
    "            match = getname(game, odds_names.keys())\n",
    "            try:\n",
    "                link = odds_names[match]\n",
    "            except:\n",
    "                link = ''\n",
    "            data[l][game] = data[l][game] + [link]\n",
    "    scraper_data = {}\n",
    "    for l_name, data in data.items():\n",
    "        for game_name, l1_t_l2 in data.items():\n",
    "            scraper_data[(game_name, l1_t_l2[1])] = [l_name, l1_t_l2[0], l1_t_l2[2]]\n",
    "    return scraper_data"
   ]
  },
  {
   "cell_type": "code",
   "execution_count": 406,
   "id": "7a178bba",
   "metadata": {},
   "outputs": [],
   "source": [
    "days_data = connect_links(game_data, all_odds)"
   ]
  },
  {
   "cell_type": "code",
   "execution_count": 407,
   "id": "f03fb015",
   "metadata": {},
   "outputs": [
    {
     "data": {
      "text/plain": [
       "{('charlotte-fc-vs-dc-united',\n",
       "  datetime.datetime(2022, 8, 3, 19, 53)): ['UNITED STATES - MAJOR LEAGUE SOCCER', 'https://www.fotmob.com/match/3787562/matchfacts/charlotte-fc-vs-dc-united', 'https://www.oddschecker.com/football/world/usa/mls/charlotte-fc-v-dc-united/winner'],\n",
       " ('columbus-crew-vs-cf-montreal',\n",
       "  datetime.datetime(2022, 8, 3, 20, 23)): ['UNITED STATES - MAJOR LEAGUE SOCCER', 'https://www.fotmob.com/match/3787700/matchfacts/columbus-crew-vs-cf-montreal', 'https://www.oddschecker.com/football/world/usa/mls/columbus-crew-v-cf-montreal/winner'],\n",
       " ('portland-timbers-vs-nashville-sc',\n",
       "  datetime.datetime(2022, 8, 3, 23, 23)): ['UNITED STATES - MAJOR LEAGUE SOCCER', 'https://www.fotmob.com/match/3787560/matchfacts/portland-timbers-vs-nashville-sc', 'https://www.oddschecker.com/football/world/usa/mls/portland-timbers-v-nashville-sc/winner'],\n",
       " ('san-jose-earthquakes-vs-inter-miami-cf',\n",
       "  datetime.datetime(2022, 8, 3, 23, 23)): ['UNITED STATES - MAJOR LEAGUE SOCCER',\n",
       "  'https://www.fotmob.com/match/3787559/matchfacts/san-jose-earthquakes-vs-inter-miami-cf',\n",
       "  'https://www.oddschecker.com/football/world/usa/mls/san-jose-earthquakes-v-inter-miami-cf/winner'],\n",
       " ('fc-juarez-vs-atletico-de-san-luis',\n",
       "  datetime.datetime(2022, 8, 3, 20, 53)): ['MEXICO - LIGA MX APERTURA',\n",
       "  'https://www.fotmob.com/match/3888507/matchfacts/fc-juarez-vs-atletico-de-san-luis',\n",
       "  'https://www.oddschecker.com/football/world/mexico/liga-mx/fc-juarez-v-atletico-san-luis/winner']}"
      ]
     },
     "execution_count": 407,
     "metadata": {},
     "output_type": "execute_result"
    }
   ],
   "source": [
    "days_data"
   ]
  },
  {
   "cell_type": "code",
   "execution_count": 392,
   "id": "cd02a710",
   "metadata": {},
   "outputs": [],
   "source": [
    "def get_odds(driver, url):\n",
    "    driver.implicitly_wait(2)\n",
    "    url = url\n",
    "    driver.get(url)\n",
    "    odds = driver.find_element(By.XPATH, '//div[@class=\"ExpanderBestOddsWrapper_e1jc6hcf\"]').text.split('\\n')\n",
    "    odds = [float(Fraction(j)) + 1.0 if '/' in j else j for j in odds]\n",
    "    odds = dict(zip(odds[::2], odds[1::2]))\n",
    "    return odds"
   ]
  },
  {
   "cell_type": "code",
   "execution_count": 393,
   "id": "368102bb",
   "metadata": {},
   "outputs": [
    {
     "data": {
      "text/plain": [
       "{'Columbus Crew': 2.0625, 'Draw': 3.6470588235294117, 'CF Montreal': 3.8}"
      ]
     },
     "execution_count": 393,
     "metadata": {},
     "output_type": "execute_result"
    }
   ],
   "source": [
    "get_odds(webdriver.Chrome(), 'https://www.oddschecker.com/football/world/usa/mls/columbus-crew-v-cf-montreal/winner')"
   ]
  },
  {
   "cell_type": "code",
   "execution_count": 414,
   "id": "cc228882",
   "metadata": {},
   "outputs": [
    {
     "data": {
      "text/plain": [
       "'https://www.oddschecker.com/football/world/usa/mls/charlotte-fc-v-dc-united/winner'"
      ]
     },
     "execution_count": 414,
     "metadata": {},
     "output_type": "execute_result"
    }
   ],
   "source": [
    "days_data[('charlotte-fc-vs-dc-united', datetime(2022, 8, 3, 19, 53))][2]"
   ]
  },
  {
   "cell_type": "code",
   "execution_count": null,
   "id": "9284fedc",
   "metadata": {},
   "outputs": [],
   "source": [
    "1 + 1"
   ]
  },
  {
   "cell_type": "code",
   "execution_count": 423,
   "id": "e36f774e",
   "metadata": {},
   "outputs": [
    {
     "name": "stdout",
     "output_type": "stream",
     "text": [
      "08/02/2022, 22:25:33 is not halftime\n",
      "08/02/2022, 22:25:33 is not halftime\n",
      "08/02/2022, 22:25:33 is not halftime\n",
      "08/02/2022, 22:25:33 is not halftime\n",
      "08/02/2022, 22:25:33 is not halftime\n"
     ]
    },
    {
     "ename": "KeyboardInterrupt",
     "evalue": "",
     "output_type": "error",
     "traceback": [
      "\u001b[1;31m---------------------------------------------------------------------------\u001b[0m",
      "\u001b[1;31mKeyboardInterrupt\u001b[0m                         Traceback (most recent call last)",
      "\u001b[1;32m<ipython-input-423-18f51948787e>\u001b[0m in \u001b[0;36m<module>\u001b[1;34m\u001b[0m\n\u001b[0;32m      9\u001b[0m         \u001b[1;32melse\u001b[0m\u001b[1;33m:\u001b[0m\u001b[1;33m\u001b[0m\u001b[1;33m\u001b[0m\u001b[0m\n\u001b[0;32m     10\u001b[0m             \u001b[0mprint\u001b[0m\u001b[1;33m(\u001b[0m\u001b[1;34mf'{datetime.now().strftime(\"%m/%d/%Y, %H:%M:%S\")} is not halftime'\u001b[0m\u001b[1;33m)\u001b[0m\u001b[1;33m\u001b[0m\u001b[1;33m\u001b[0m\u001b[0m\n\u001b[1;32m---> 11\u001b[1;33m     \u001b[0mtime\u001b[0m\u001b[1;33m.\u001b[0m\u001b[0msleep\u001b[0m\u001b[1;33m(\u001b[0m\u001b[1;36m4\u001b[0m \u001b[1;33m*\u001b[0m \u001b[1;36m60\u001b[0m\u001b[1;33m)\u001b[0m\u001b[1;33m\u001b[0m\u001b[1;33m\u001b[0m\u001b[0m\n\u001b[0m",
      "\u001b[1;31mKeyboardInterrupt\u001b[0m: "
     ]
    }
   ],
   "source": [
    "while True:\n",
    "    for tup in days_data.keys():\n",
    "        if tup[1] <= datetime.now():\n",
    "            stats = get_stats(webdriver.Chrome(), days_data[tup][1])\n",
    "            odds = get_odds(webdriver.Chrome(), days_data[tup][2])\n",
    "            row = {**stats,**odds}\n",
    "            row['league'] = days_data[tup][0]\n",
    "            print(row)\n",
    "        else:\n",
    "            print(f'{datetime.now().strftime(\"%m/%d/%Y, %H:%M:%S\")} is not a halftime')\n",
    "    time.sleep(4 * 60)"
   ]
  }
 ],
 "metadata": {
  "kernelspec": {
   "display_name": "Python 3",
   "language": "python",
   "name": "python3"
  },
  "language_info": {
   "codemirror_mode": {
    "name": "ipython",
    "version": 3
   },
   "file_extension": ".py",
   "mimetype": "text/x-python",
   "name": "python",
   "nbconvert_exporter": "python",
   "pygments_lexer": "ipython3",
   "version": "3.8.8"
  }
 },
 "nbformat": 4,
 "nbformat_minor": 5
}
