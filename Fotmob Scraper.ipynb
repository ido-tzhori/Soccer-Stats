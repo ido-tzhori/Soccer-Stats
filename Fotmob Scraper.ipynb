{
 "cells": [
  {
   "cell_type": "code",
   "execution_count": 54,
   "id": "b0142947",
   "metadata": {},
   "outputs": [],
   "source": [
    "from selenium import webdriver\n",
    "from selenium.webdriver.chrome.service import Service\n",
    "from selenium.webdriver.common.by import By\n",
    "from selenium.webdriver.common.action_chains import ActionChains\n",
    "import time\n",
    "import re\n",
    "import pandas as pd\n",
    "import collections\n",
    "import time\n",
    "import random"
   ]
  },
  {
   "cell_type": "code",
   "execution_count": 2,
   "id": "5b3357f4",
   "metadata": {},
   "outputs": [],
   "source": [
    "PATH = \"C:\\Program Files (x86)\\chromedriver_win32\\chromedriver.exe\"\n",
    "s=Service(PATH)\n",
    "driver = webdriver.Chrome(service=s)\n",
    "driver.get('https://www.fotmob.com/')\n",
    "games = driver.find_elements(By.CLASS_NAME, 'ew7iiy60')\n",
    "links = [game.get_attribute('href') for game in games]"
   ]
  },
  {
   "cell_type": "code",
   "execution_count": 163,
   "id": "2b9b7999",
   "metadata": {},
   "outputs": [],
   "source": [
    "url = 'https://www.fotmob.com/match/3657231/matchfacts/sassuolo-vs-hellas-verona?date=20220116'\n",
    "driver = webdriver.Chrome(service=s)\n",
    "driver.get(url)\n",
    "mainstats = driver.find_elements(By.XPATH, '(//ul[@class=\"css-45dl0h-StatGroupContainer e683amr3\"])')[0].text\n",
    "time.sleep(random.randint(0, 4))\n",
    "possession = driver.find_elements(By.XPATH, '(//div[@class=\"css-iwgu3j-PossessionWheel e683amr7\"])')[0].text\n",
    "allstats = driver.find_elements(By.XPATH , '(//button[@class=\"css-1isl7sd-ExpandButton e7i6a0l1\"])[2]')[0]\n",
    "time.sleep(random.randint(0, 4))\n",
    "#allstats.click()\n",
    "time.sleep(random.randint(0, 4))\n",
    "stats = driver.find_elements(By.CLASS_NAME, 'e360fsv1')[1].text\n",
    "game = driver.find_elements(By.CLASS_NAME, 'css-jkaqxa')[1].text\n",
    "times = driver.find_elements(By.CLASS_NAME, 'css-xj92le')[1].text\n",
    "driver.quit()"
   ]
  },
  {
   "cell_type": "code",
   "execution_count": 185,
   "id": "fbd87568",
   "metadata": {},
   "outputs": [],
   "source": [
    "ms = re.split(pattern = \"\\\\r?\\\\n\", string = mainst)\n",
    "os = ms[6:12]\n",
    "os.extend(ms[-9:])"
   ]
  },
  {
   "cell_type": "code",
   "execution_count": 186,
   "id": "f9683010",
   "metadata": {},
   "outputs": [
    {
     "data": {
      "text/plain": [
       "['11',\n",
       " 'Chances created',\n",
       " '14',\n",
       " '2',\n",
       " 'Big chances',\n",
       " '3',\n",
       " '6',\n",
       " 'Fouls conceded',\n",
       " '18',\n",
       " '9',\n",
       " 'Corners',\n",
       " '7',\n",
       " '0',\n",
       " 'Offsides',\n",
       " '8']"
      ]
     },
     "execution_count": 186,
     "metadata": {},
     "output_type": "execute_result"
    }
   ],
   "source": [
    "os"
   ]
  },
  {
   "cell_type": "code",
   "execution_count": 92,
   "id": "b5c47c72",
   "metadata": {},
   "outputs": [],
   "source": [
    "possession, stats, game, times = ebgs(url)"
   ]
  },
  {
   "cell_type": "code",
   "execution_count": 77,
   "id": "2a068ee9",
   "metadata": {},
   "outputs": [],
   "source": [
    "los = re.split(pattern = \"\\\\r?\\\\n\", string = stats)\n",
    "try:\n",
    "    los.remove('What is xG?')\n",
    "    los.remove('Keeper')\n",
    "    los.remove('Discipline')\n",
    "except:\n",
    "    pass\n"
   ]
  },
  {
   "cell_type": "code",
   "execution_count": 82,
   "id": "bd05f0e8",
   "metadata": {},
   "outputs": [],
   "source": [
    "\n",
    "columns = los[1::3]\n",
    "columns.insert(0, 'Goals')\n",
    "columns.insert(2, 'Possession')\n",
    "team1 = los[::3]\n",
    "team1.insert(0, goal1)\n",
    "team1.insert(2, pos1)\n",
    "team2 = los[2::3]\n",
    "team2.insert(0, goal2)\n",
    "team2.insert(2, pos2)"
   ]
  },
  {
   "cell_type": "code",
   "execution_count": 76,
   "id": "3be10819",
   "metadata": {},
   "outputs": [],
   "source": [
    "pos = possession.split()[-2:]\n",
    "pos1, pos2 = pos[0], pos[1]\n",
    "score = game.split()[::2]\n",
    "goal1, goal2 = score[0], score[1]"
   ]
  },
  {
   "cell_type": "code",
   "execution_count": 84,
   "id": "81a8b4f1",
   "metadata": {},
   "outputs": [],
   "source": [
    "cols = ['1 ' + word for word in columns] + ['2 ' + word for word in columns]\n",
    "gs = team1 + team2\n",
    "row = {k:v for k, v in zip(cols, gs)}"
   ]
  },
  {
   "cell_type": "code",
   "execution_count": 85,
   "id": "cb45d915",
   "metadata": {},
   "outputs": [],
   "source": [
    "fd = collections.defaultdict(list)\n",
    "for d in [row]:\n",
    "    for key, value in d.items():\n",
    "        fd[key].append(value)"
   ]
  },
  {
   "cell_type": "code",
   "execution_count": 193,
   "id": "a0c20955",
   "metadata": {},
   "outputs": [],
   "source": [
    "def ebgs(url):\n",
    "    driver = webdriver.Chrome(service=s)\n",
    "    driver.get(url)\n",
    "    time.sleep(random.randint(0, 4))\n",
    "    mainstats = driver.find_elements(By.XPATH, '(//ul[@class=\"css-45dl0h-StatGroupContainer e683amr3\"])')[0].text\n",
    "    possession = driver.find_elements(By.XPATH, '(//div[@class=\"css-iwgu3j-PossessionWheel e683amr7\"])')[0].text\n",
    "    allstats = driver.find_elements(By.XPATH , '(//button[@class=\"css-1isl7sd-ExpandButton e7i6a0l1\"])[2]')[0]\n",
    "    allstats.click()\n",
    "    time.sleep(random.randint(0, 6))\n",
    "    stats = driver.find_elements(By.CLASS_NAME, 'e360fsv1')[1].text\n",
    "    game = driver.find_elements(By.CLASS_NAME, 'css-jkaqxa')[1].text\n",
    "    times = driver.find_elements(By.CLASS_NAME, 'css-xj92le')[1].text\n",
    "    driver.quit()\n",
    "    return mainstats, possession, stats, game, times"
   ]
  },
  {
   "cell_type": "code",
   "execution_count": 194,
   "id": "22dc59fa",
   "metadata": {},
   "outputs": [],
   "source": [
    "def getstats(url):\n",
    "    mainstats, possession, stats, game, times = ebgs(url)\n",
    "    pos = possession.split()[-2:]\n",
    "    pos1, pos2 = pos[0], pos[1]\n",
    "    score = game.split()[::2]\n",
    "    goal1, goal2 = score[0], score[1]\n",
    "    score = game.split()[::2]\n",
    "    goal1 = score[0]\n",
    "    goal2 = score[1]\n",
    "    ms = re.split(pattern = \"\\\\r?\\\\n\", string = mainst)\n",
    "    os = ms[6:12]\n",
    "    os.extend(ms[-9:])\n",
    "    los = re.split(pattern = \"\\\\r?\\\\n\", string = stats)\n",
    "    los.remove('Keeper')\n",
    "    los.remove('Discipline')\n",
    "    los.extend(os)\n",
    "    try:\n",
    "        los.remove('What is xG?')\n",
    "    except:\n",
    "        pass\n",
    "    columns = los[1::3]\n",
    "    columns.insert(0, 'Goals')\n",
    "    columns.insert(2, 'Possession')\n",
    "    team1 = los[::3]\n",
    "    team1.insert(0, goal1)\n",
    "    team1.insert(2, pos1)\n",
    "    team2 = los[2::3]\n",
    "    team2.insert(0, goal2)\n",
    "    team2.insert(2, pos2)\n",
    "    cols = ['1 ' + word for word in columns] + ['2 ' + word for word in columns]\n",
    "    gs = team1 + team2\n",
    "    row = {k:v for k, v in zip(cols, gs)}\n",
    "    return row"
   ]
  },
  {
   "cell_type": "code",
   "execution_count": 195,
   "id": "7bb33ce1",
   "metadata": {
    "scrolled": true
   },
   "outputs": [],
   "source": [
    "x = getstats(\"https://www.fotmob.com/match/3657225/matchfacts/fiorentina-vs-genoa\")"
   ]
  },
  {
   "cell_type": "code",
   "execution_count": 196,
   "id": "7ee0e4de",
   "metadata": {},
   "outputs": [
    {
     "data": {
      "text/plain": [
       "{'1 Goals': '6',\n",
       " '1 Shots': '21',\n",
       " '1 Possession': '76%',\n",
       " '1 Shots on target': '12',\n",
       " '1 Shots off target': '5',\n",
       " '1 Blocked shots': '4',\n",
       " '1 Shots woodwork': '0',\n",
       " '1 Shots inside box': '15',\n",
       " '1 Shots outside box': '6',\n",
       " '1 Expected goals (xG)': '3.64',\n",
       " '1 xG first half': '2.83',\n",
       " '1 xG second half': '0.81',\n",
       " '1 xG on target (xGOT)': '4.98',\n",
       " '1 xG open play': '2.71',\n",
       " '1 xG set play': '0.14',\n",
       " '1 xG penalty': '0.79',\n",
       " '1 Duels won': '30',\n",
       " '1 Duels': '56',\n",
       " '1 Dribbles attempted': '15',\n",
       " '1 Dribbles succeeded': '8',\n",
       " '1 Tackles attempted': '6',\n",
       " '1 Tackles succeeded': '5',\n",
       " '1 Aerials won': '6',\n",
       " '1 Interceptions': '6',\n",
       " '1 Accurate passes': '622',\n",
       " '1 Own half': '343',\n",
       " '1 Opposition half': '279',\n",
       " '1 Passes': '681',\n",
       " '1 Pass success': '91%',\n",
       " '1 Touches': '801',\n",
       " '1 Long balls': '52',\n",
       " '1 Accurate long balls': '41',\n",
       " '1 Crosses': '11',\n",
       " '1 Accurate crosses': '4',\n",
       " '1 Throws': '13',\n",
       " '1 Yellow cards': '1',\n",
       " '1 Red cards': '0',\n",
       " '1 Saves': '0',\n",
       " '1 Diving saves': '0',\n",
       " '1 Saves inside box': '0',\n",
       " '1 Acted as sweeper': '0',\n",
       " '1 Punches': '0',\n",
       " '1 Chances created': '11',\n",
       " '1 Big chances': '2',\n",
       " '1 Fouls conceded': '6',\n",
       " '1 Corners': '9',\n",
       " '1 Offsides': '0',\n",
       " '2 Goals': '0',\n",
       " '2 Shots': '2',\n",
       " '2 Possession': '24%',\n",
       " '2 Shots on target': '0',\n",
       " '2 Shots off target': '2',\n",
       " '2 Blocked shots': '0',\n",
       " '2 Shots woodwork': '0',\n",
       " '2 Shots inside box': '0',\n",
       " '2 Shots outside box': '2',\n",
       " '2 Expected goals (xG)': '0.04',\n",
       " '2 xG first half': '0.04',\n",
       " '2 xG second half': '0.00',\n",
       " '2 xG on target (xGOT)': '0.00',\n",
       " '2 xG open play': '0.01',\n",
       " '2 xG set play': '0.02',\n",
       " '2 xG penalty': '0.00',\n",
       " '2 Duels won': '26',\n",
       " '2 Duels': '56',\n",
       " '2 Dribbles attempted': '9',\n",
       " '2 Dribbles succeeded': '3',\n",
       " '2 Tackles attempted': '13',\n",
       " '2 Tackles succeeded': '2',\n",
       " '2 Aerials won': '2',\n",
       " '2 Interceptions': '12',\n",
       " '2 Accurate passes': '158',\n",
       " '2 Own half': '116',\n",
       " '2 Opposition half': '42',\n",
       " '2 Passes': '209',\n",
       " '2 Pass success': '76%',\n",
       " '2 Touches': '330',\n",
       " '2 Long balls': '43',\n",
       " '2 Accurate long balls': '15',\n",
       " '2 Crosses': '4',\n",
       " '2 Accurate crosses': '1',\n",
       " '2 Throws': '10',\n",
       " '2 Yellow cards': '3',\n",
       " '2 Red cards': '0',\n",
       " '2 Saves': '6',\n",
       " '2 Diving saves': '3',\n",
       " '2 Saves inside box': '5',\n",
       " '2 Acted as sweeper': '0',\n",
       " '2 Punches': '0',\n",
       " '2 Chances created': '14',\n",
       " '2 Big chances': '3',\n",
       " '2 Fouls conceded': '18',\n",
       " '2 Corners': '7',\n",
       " '2 Offsides': '8'}"
      ]
     },
     "execution_count": 196,
     "metadata": {},
     "output_type": "execute_result"
    }
   ],
   "source": [
    "x"
   ]
  },
  {
   "cell_type": "code",
   "execution_count": 124,
   "id": "2d8b519a",
   "metadata": {
    "scrolled": false
   },
   "outputs": [
    {
     "data": {
      "text/plain": [
       "{'1 Accurate crosses': '1',\n",
       " '1 Accurate long balls': '6',\n",
       " '1 Accurate passes': '76',\n",
       " '1 Acted as sweeper': '0',\n",
       " '1 Aerials won': '2',\n",
       " '1 Blocked shots': '0',\n",
       " '1 Crosses': '7',\n",
       " '1 Diving saves': '1',\n",
       " '1 Dribbles attempted': '3',\n",
       " '1 Dribbles succeeded': '2',\n",
       " '1 Duels': '14',\n",
       " '1 Duels won': '7',\n",
       " '1 Goals': '0',\n",
       " '1 Interceptions': '4',\n",
       " '1 Long balls': '14',\n",
       " '1 Opposition half': '28',\n",
       " '1 Own half': '48',\n",
       " '1 Pass success': '81%',\n",
       " '1 Passes': '94',\n",
       " '1 Possession': '49%',\n",
       " '1 Punches': '0',\n",
       " '1 Red cards': '0',\n",
       " '1 Saves': '2',\n",
       " '1 Saves inside box': '1',\n",
       " '1 Shots': '3',\n",
       " '1 Shots inside box': '2',\n",
       " '1 Shots off target': '2',\n",
       " '1 Shots on target': '1',\n",
       " '1 Shots outside box': '1',\n",
       " '1 Shots woodwork': '0',\n",
       " '1 Tackles attempted': '3',\n",
       " '1 Tackles succeeded': '2',\n",
       " '1 Throws': '10',\n",
       " '1 Touches': '143',\n",
       " '1 Yellow cards': '0',\n",
       " '2 Accurate crosses': '0',\n",
       " '2 Accurate long balls': '7',\n",
       " '2 Accurate passes': '84',\n",
       " '2 Acted as sweeper': '1',\n",
       " '2 Aerials won': '2',\n",
       " '2 Blocked shots': '1',\n",
       " '2 Crosses': '2',\n",
       " '2 Diving saves': '1',\n",
       " '2 Dribbles attempted': '0',\n",
       " '2 Dribbles succeeded': '0',\n",
       " '2 Duels': '14',\n",
       " '2 Duels won': '7',\n",
       " '2 Goals': '0',\n",
       " '2 Interceptions': '2',\n",
       " '2 Long balls': '17',\n",
       " '2 Opposition half': '35',\n",
       " '2 Own half': '49',\n",
       " '2 Pass success': '82%',\n",
       " '2 Passes': '103',\n",
       " '2 Possession': '51%',\n",
       " '2 Punches': '0',\n",
       " '2 Red cards': '0',\n",
       " '2 Saves': '1',\n",
       " '2 Saves inside box': '1',\n",
       " '2 Shots': '3',\n",
       " '2 Shots inside box': '2',\n",
       " '2 Shots off target': '0',\n",
       " '2 Shots on target': '2',\n",
       " '2 Shots outside box': '1',\n",
       " '2 Shots woodwork': '0',\n",
       " '2 Tackles attempted': '2',\n",
       " '2 Tackles succeeded': '0',\n",
       " '2 Throws': '3',\n",
       " '2 Touches': '141',\n",
       " '2 Yellow cards': '0'}"
      ]
     },
     "execution_count": 124,
     "metadata": {},
     "output_type": "execute_result"
    }
   ],
   "source": [
    "dict(collections.OrderedDict(sorted(x.items())))"
   ]
  },
  {
   "cell_type": "code",
   "execution_count": null,
   "id": "cd7480fe",
   "metadata": {},
   "outputs": [],
   "source": []
  }
 ],
 "metadata": {
  "kernelspec": {
   "display_name": "Python 3",
   "language": "python",
   "name": "python3"
  },
  "language_info": {
   "codemirror_mode": {
    "name": "ipython",
    "version": 3
   },
   "file_extension": ".py",
   "mimetype": "text/x-python",
   "name": "python",
   "nbconvert_exporter": "python",
   "pygments_lexer": "ipython3",
   "version": "3.8.8"
  }
 },
 "nbformat": 4,
 "nbformat_minor": 5
}
