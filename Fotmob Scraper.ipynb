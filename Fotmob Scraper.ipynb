{
 "cells": [
  {
   "cell_type": "code",
   "execution_count": 362,
   "id": "b0142947",
   "metadata": {},
   "outputs": [],
   "source": [
    "from selenium import webdriver\n",
    "from selenium.webdriver.chrome.service import Service\n",
    "from selenium.webdriver.common.by import By\n",
    "from selenium.webdriver.common.action_chains import ActionChains\n",
    "import time\n",
    "import re\n",
    "import pandas as pd\n",
    "import collections\n",
    "import time"
   ]
  },
  {
   "cell_type": "code",
   "execution_count": 68,
   "id": "5b3357f4",
   "metadata": {},
   "outputs": [],
   "source": [
    "PATH = \"C:\\Program Files (x86)\\chromedriver_win32\\chromedriver.exe\"\n",
    "s=Service(PATH)\n",
    "driver = webdriver.Chrome(service=s)\n",
    "driver.get('https://www.fotmob.com/')\n",
    "games = driver.find_elements(By.CLASS_NAME, 'ew7iiy60')\n",
    "links = [game.get_attribute('href') for game in games]"
   ]
  },
  {
   "cell_type": "code",
   "execution_count": 357,
   "id": "0f9a2aa1",
   "metadata": {},
   "outputs": [
    {
     "data": {
      "text/plain": [
       "<module 'time' (built-in)>"
      ]
     },
     "execution_count": 357,
     "metadata": {},
     "output_type": "execute_result"
    }
   ],
   "source": [
    "time"
   ]
  },
  {
   "cell_type": "code",
   "execution_count": 502,
   "id": "2b9b7999",
   "metadata": {},
   "outputs": [],
   "source": [
    "url = 'https://www.fotmob.com/match/3626027/matchfacts/marseille-vs-lille'\n",
    "driver = webdriver.Chrome(service=s)\n",
    "driver.get(url)\n",
    "allstats = driver.find_elements(By.XPATH , '(//button[@class=\"css-1isl7sd-ExpandButton e7i6a0l1\"])[2]')[0]\n",
    "allstats.click()\n",
    "time.sleep(2)\n",
    "stats = driver.find_elements(By.CLASS_NAME, 'e360fsv1')[1].text\n",
    "game = driver.find_elements(By.CLASS_NAME, 'css-jkaqxa')[1].text\n",
    "times = driver.find_elements(By.CLASS_NAME, 'css-xj92le')[1].text\n",
    "driver.quit()"
   ]
  },
  {
   "cell_type": "code",
   "execution_count": 503,
   "id": "b5c47c72",
   "metadata": {},
   "outputs": [
    {
     "data": {
      "text/plain": [
       "'11\\nShots\\n5\\n5\\nShots on target\\n4\\n4\\nShots off target\\n1\\n2\\nBlocked shots\\n0\\n0\\nShots woodwork\\n0\\n7\\nShots inside box\\n2\\n4\\nShots outside box\\n3\\n0.92\\nExpected goals (xG)\\n0.75\\n0.77\\nxG first half\\n0.75\\n0.15\\nxG second half\\n0.00\\n1.71\\nxG on target (xGOT)\\n1.31\\n0.19\\nxG open play\\n0.68\\n0.73\\nxG set play\\n0.06\\nWhat is xG?\\n34\\nDuels won\\n18\\n52\\nDuels\\n52\\n6\\nDribbles attempted\\n8\\n4\\nDribbles succeeded\\n2\\n13\\nTackles attempted\\n7\\n6\\nTackles succeeded\\n3\\n9\\nAerials won\\n3\\n7\\nInterceptions\\n2\\n358\\nAccurate passes\\n118\\n131\\nOwn half\\n85\\n227\\nOpposition half\\n33\\n410\\nPasses\\n162\\n87%\\nPass success\\n73%\\n519\\nTouches\\n279\\n22\\nLong balls\\n30\\n17\\nAccurate long balls\\n8\\n20\\nCrosses\\n4\\n6\\nAccurate crosses\\n2\\n13\\nThrows\\n14\\nDiscipline\\n1\\nYellow cards\\n2\\n0\\nRed cards\\n1\\nKeeper\\n3\\nSaves\\n5\\n2\\nDiving saves\\n1\\n1\\nSaves inside box\\n4\\n0\\nActed as sweeper\\n0\\n0\\nPunches\\n1'"
      ]
     },
     "execution_count": 503,
     "metadata": {},
     "output_type": "execute_result"
    }
   ],
   "source": [
    "stats"
   ]
  },
  {
   "cell_type": "code",
   "execution_count": 504,
   "id": "3be10819",
   "metadata": {},
   "outputs": [],
   "source": [
    "score = game.split()[::2]\n",
    "goal1 = score[0]\n",
    "goal2 = score[1]"
   ]
  },
  {
   "cell_type": "code",
   "execution_count": 505,
   "id": "2a068ee9",
   "metadata": {},
   "outputs": [],
   "source": [
    "los = re.split(pattern = \"\\\\r?\\\\n\", string = stats)\n",
    "los.remove('What is xG?')\n",
    "los.remove('Keeper')\n",
    "los.remove('Discipline')\n"
   ]
  },
  {
   "cell_type": "code",
   "execution_count": 506,
   "id": "663fe6e1",
   "metadata": {},
   "outputs": [
    {
     "data": {
      "text/plain": [
       "117"
      ]
     },
     "execution_count": 506,
     "metadata": {},
     "output_type": "execute_result"
    }
   ],
   "source": [
    "len(los)"
   ]
  },
  {
   "cell_type": "code",
   "execution_count": 484,
   "id": "bd05f0e8",
   "metadata": {},
   "outputs": [],
   "source": [
    "columns = los[1::3]\n",
    "columns.insert(0, 'Goal')\n",
    "team1 = los[::3]\n",
    "team1.insert(0, goal1)\n",
    "team2 = los[2::3]\n",
    "team2.insert(0, goal2)"
   ]
  },
  {
   "cell_type": "code",
   "execution_count": 496,
   "id": "e311a18f",
   "metadata": {},
   "outputs": [
    {
     "data": {
      "text/plain": [
       "39"
      ]
     },
     "execution_count": 496,
     "metadata": {},
     "output_type": "execute_result"
    }
   ],
   "source": [
    "len(columns)"
   ]
  },
  {
   "cell_type": "code",
   "execution_count": 495,
   "id": "e49c21c8",
   "metadata": {},
   "outputs": [
    {
     "data": {
      "text/plain": [
       "['1 Goal', '1 Shots', '1 Shots on target', '1 Shots off target', '1 Blocked shots', '1 Shots woodwork', '1 Shots inside box', '1 Shots outside box', '1 Expected goals (xG)', '1 xG first half', '1 xG second half', '1 xG on target (xGOT)', '1 xG open play', '1 xG set play', '1 Duels won', '1 Duels', '1 Dribbles attempted', '1 Dribbles succeeded', '1 Tackles attempted', '1 Tackles succeeded', '1 Aerials won', '1 Interceptions', '1 Accurate passes', '1 Own half', '1 Opposition half', '1 Passes', '1 Pass success', '1 Touches', '1 Long balls', '1 Accurate long balls', '1 Crosses', '1 Accurate crosses', '1 Throws', '1 Yellow cards', '1 Red cards', '1 Saves', '1 Diving saves', '1 Saves inside box', '1 Acted as sweeper', '1 Punches']"
      ]
     },
     "execution_count": 495,
     "metadata": {},
     "output_type": "execute_result"
    }
   ],
   "source": [
    "list(row.keys())[0:40]"
   ]
  },
  {
   "cell_type": "code",
   "execution_count": 236,
   "id": "5b8ff87d",
   "metadata": {
    "scrolled": true
   },
   "outputs": [],
   "source": [
    "dfone = pd.DataFrame([team1], columns = columns).add_prefix('1 ')\n",
    "dftwo = pd.DataFrame([team2], columns = columns).add_prefix('2 ')\n",
    "df = dfone.join(dftwo)"
   ]
  },
  {
   "cell_type": "code",
   "execution_count": 455,
   "id": "81a8b4f1",
   "metadata": {},
   "outputs": [],
   "source": [
    "cols = ['1 ' + word for word in columns] + ['2 ' + word for word in columns]\n",
    "gs = team1 + team2\n",
    "row = {k:v for k, v in zip(cols, gs)}"
   ]
  },
  {
   "cell_type": "code",
   "execution_count": 457,
   "id": "cb45d915",
   "metadata": {},
   "outputs": [],
   "source": [
    "fd = collections.defaultdict(list)\n",
    "\n",
    "for d in [row]:\n",
    "    for key, value in d.items():\n",
    "        fd[key].append(value)"
   ]
  },
  {
   "cell_type": "code",
   "execution_count": 458,
   "id": "ee681810",
   "metadata": {
    "scrolled": true
   },
   "outputs": [
    {
     "data": {
      "text/html": [
       "<div>\n",
       "<style scoped>\n",
       "    .dataframe tbody tr th:only-of-type {\n",
       "        vertical-align: middle;\n",
       "    }\n",
       "\n",
       "    .dataframe tbody tr th {\n",
       "        vertical-align: top;\n",
       "    }\n",
       "\n",
       "    .dataframe thead th {\n",
       "        text-align: right;\n",
       "    }\n",
       "</style>\n",
       "<table border=\"1\" class=\"dataframe\">\n",
       "  <thead>\n",
       "    <tr style=\"text-align: right;\">\n",
       "      <th></th>\n",
       "      <th>1 Goal</th>\n",
       "      <th>1 Shots</th>\n",
       "      <th>1 Shots on target</th>\n",
       "      <th>1 Shots off target</th>\n",
       "      <th>1 Blocked shots</th>\n",
       "      <th>1 Shots woodwork</th>\n",
       "      <th>1 Shots inside box</th>\n",
       "      <th>1 Shots outside box</th>\n",
       "      <th>1 Expected goals (xG)</th>\n",
       "      <th>1 xG first half</th>\n",
       "      <th>...</th>\n",
       "      <th>2 Crosses</th>\n",
       "      <th>2 Accurate crosses</th>\n",
       "      <th>2 Throws</th>\n",
       "      <th>2 Yellow cards</th>\n",
       "      <th>2 Red cards</th>\n",
       "      <th>2 Saves</th>\n",
       "      <th>2 Diving saves</th>\n",
       "      <th>2 Saves inside box</th>\n",
       "      <th>2 Acted as sweeper</th>\n",
       "      <th>2 Punches</th>\n",
       "    </tr>\n",
       "  </thead>\n",
       "  <tbody>\n",
       "    <tr>\n",
       "      <th>0</th>\n",
       "      <td>3</td>\n",
       "      <td>27</td>\n",
       "      <td>13</td>\n",
       "      <td>8</td>\n",
       "      <td>6</td>\n",
       "      <td>1</td>\n",
       "      <td>18</td>\n",
       "      <td>9</td>\n",
       "      <td>3.19</td>\n",
       "      <td>1.25</td>\n",
       "      <td>...</td>\n",
       "      <td>4</td>\n",
       "      <td>0</td>\n",
       "      <td>12</td>\n",
       "      <td>1</td>\n",
       "      <td>0</td>\n",
       "      <td>10</td>\n",
       "      <td>2</td>\n",
       "      <td>6</td>\n",
       "      <td>0</td>\n",
       "      <td>0</td>\n",
       "    </tr>\n",
       "  </tbody>\n",
       "</table>\n",
       "<p>1 rows × 80 columns</p>\n",
       "</div>"
      ],
      "text/plain": [
       "  1 Goal 1 Shots 1 Shots on target 1 Shots off target 1 Blocked shots  \\\n",
       "0      3      27                13                  8               6   \n",
       "\n",
       "  1 Shots woodwork 1 Shots inside box 1 Shots outside box  \\\n",
       "0                1                 18                   9   \n",
       "\n",
       "  1 Expected goals (xG) 1 xG first half  ... 2 Crosses 2 Accurate crosses  \\\n",
       "0                  3.19            1.25  ...         4                  0   \n",
       "\n",
       "  2 Throws 2 Yellow cards 2 Red cards 2 Saves 2 Diving saves  \\\n",
       "0       12              1           0      10              2   \n",
       "\n",
       "  2 Saves inside box 2 Acted as sweeper 2 Punches  \n",
       "0                  6                  0         0  \n",
       "\n",
       "[1 rows x 80 columns]"
      ]
     },
     "execution_count": 458,
     "metadata": {},
     "output_type": "execute_result"
    }
   ],
   "source": [
    "pd.DataFrame(fd)"
   ]
  },
  {
   "cell_type": "code",
   "execution_count": 334,
   "id": "22dc59fa",
   "metadata": {},
   "outputs": [],
   "source": [
    "def getstats(url):\n",
    "    driver = webdriver.Chrome(service=s)\n",
    "    driver.get(url)\n",
    "    stats = driver.find_elements(By.CLASS_NAME, 'e360fsv1')[1].text\n",
    "    game = driver.find_elements(By.CLASS_NAME, 'css-jkaqxa')[1].text\n",
    "    time = driver.find_elements(By.CLASS_NAME, 'css-xj92le')[1].text\n",
    "    driver.quit()\n",
    "    if time != 'Half-Time':\n",
    "        score = game.split()[::2]\n",
    "        goal1 = score[0]\n",
    "        goal2 = score[1]\n",
    "        los = re.split(pattern = \"\\\\r?\\\\n\", string = stats)\n",
    "        los.remove('What is xG?')\n",
    "        los.remove('Keeper')\n",
    "        los.remove('Discipline')\n",
    "        columns = los[1::3]\n",
    "        columns.insert(0, 'Goal')\n",
    "        team1 = los[::3]\n",
    "        team1.insert(0, goal1)\n",
    "        team2 = los[2::3]\n",
    "        team2.insert(0, goal2)\n",
    "        cols = ['1 ' + word for word in columns] + ['2 ' + word for word in columns]\n",
    "        gs = team1 + team2\n",
    "        row = {k:v for k, v in zip(cols, gs)}\n",
    "        return row\n",
    "    \n",
    "    "
   ]
  },
  {
   "cell_type": "code",
   "execution_count": 424,
   "id": "7bb33ce1",
   "metadata": {
    "scrolled": true
   },
   "outputs": [
    {
     "data": {
      "text/plain": [
       "{'1 Goal': '3', '1 Shots': '27', '1 Shots on target': '13', '1 Shots off target': '8', '1 Blocked shots': '6', '1 Shots woodwork': '1', '1 Shots inside box': '18', '1 Shots outside box': '9', '1 Expected goals (xG)': '3.19', '1 xG first half': '1.25', '1 xG second half': '1.94', '1 xG on target (xGOT)': '3.72', '1 xG open play': '2.18', '1 xG set play': '1.01', '1 Duels won': '46', '1 Duels': '98', '1 Dribbles attempted': '20', '1 Dribbles succeeded': '9', '1 Tackles attempted': '9', '1 Tackles succeeded': '7', '1 Aerials won': '23', '1 Interceptions': '9', '1 Accurate passes': '574', '1 Own half': '206', '1 Opposition half': '368', '1 Passes': '694', '1 Pass success': '83%', '1 Touches': '883', '1 Long balls': '74', '1 Accurate long balls': '33', '1 Crosses': '32', '1 Accurate crosses': '4', '1 Throws': '26', '1 Yellow cards': '0', '1 Red cards': '0', '1 Saves': '1', '1 Diving saves': '1', '1 Saves inside box': '1', '1 Acted as sweeper': '1', '1 Punches': '0', '2 Goal': '0', '2 Shots': '6', '2 Shots on target': '1', '2 Shots off target': '3', '2 Blocked shots': '2', '2 Shots woodwork': '0', '2 Shots inside box': '4', '2 Shots outside box': '2', '2 Expected goals (xG)': '0.34', '2 xG first half': '0.04', '2 xG second half': '0.30', '2 xG on target (xGOT)': '0.21', '2 xG open play': '0.34', '2 xG set play': '0.00', '2 Duels won': '52', '2 Duels': '98', '2 Dribbles attempted': '12', '2 Dribbles succeeded': '6', '2 Tackles attempted': '21', '2 Tackles succeeded': '9', '2 Aerials won': '19', '2 Interceptions': '14', '2 Accurate passes': '212', '2 Own half': '118', '2 Opposition half': '94', '2 Passes': '335', '2 Pass success': '63%', '2 Touches': '517', '2 Long balls': '68', '2 Accurate long balls': '18', '2 Crosses': '4', '2 Accurate crosses': '0', '2 Throws': '12', '2 Yellow cards': '1', '2 Red cards': '0', '2 Saves': '10', '2 Diving saves': '2', '2 Saves inside box': '6', '2 Acted as sweeper': '0', '2 Punches': '0'}"
      ]
     },
     "execution_count": 424,
     "metadata": {},
     "output_type": "execute_result"
    }
   ],
   "source": [
    "getstats(\"https://www.fotmob.com/match/3610143/matchfacts/liverpool-vs-brentford\")"
   ]
  }
 ],
 "metadata": {
  "kernelspec": {
   "display_name": "Python 3",
   "language": "python",
   "name": "python3"
  },
  "language_info": {
   "codemirror_mode": {
    "name": "ipython",
    "version": 3
   },
   "file_extension": ".py",
   "mimetype": "text/x-python",
   "name": "python",
   "nbconvert_exporter": "python",
   "pygments_lexer": "ipython3",
   "version": "3.8.8"
  }
 },
 "nbformat": 4,
 "nbformat_minor": 5
}
