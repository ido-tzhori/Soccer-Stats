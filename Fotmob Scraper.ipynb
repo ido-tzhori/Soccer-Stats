{
 "cells": [
  {
   "cell_type": "code",
   "execution_count": 6,
   "id": "b0142947",
   "metadata": {},
   "outputs": [],
   "source": [
    "from selenium import webdriver\n",
    "from selenium.webdriver.chrome.service import Service\n",
    "from selenium.webdriver.common.by import By\n",
    "import time\n",
    "import re\n",
    "import pandas as pd\n",
    "import collections\n",
    "import time\n",
    "import random"
   ]
  },
  {
   "cell_type": "code",
   "execution_count": 10,
   "id": "5b3357f4",
   "metadata": {},
   "outputs": [],
   "source": [
    "PATH = \"C:\\Program Files (x86)\\chromedriver_win32\\chromedriver.exe\"\n",
    "s=Service(PATH)\n",
    "driver = webdriver.Chrome(service=s)\n",
    "driver.get('https://www.fotmob.com/')\n",
    "games = driver.find_elements(By.CLASS_NAME, 'ew7iiy60')\n",
    "links = [game.get_attribute('href') for game in games]"
   ]
  },
  {
   "cell_type": "code",
   "execution_count": 163,
   "id": "2b9b7999",
   "metadata": {},
   "outputs": [],
   "source": [
    "url = 'https://www.fotmob.com/match/3657231/matchfacts/sassuolo-vs-hellas-verona?date=20220116'\n",
    "driver = webdriver.Chrome(service=s)\n",
    "driver.get(url)\n",
    "mainstats = driver.find_elements(By.XPATH, '(//ul[@class=\"css-45dl0h-StatGroupContainer e683amr3\"])')[0].text\n",
    "time.sleep(random.randint(0, 4))\n",
    "possession = driver.find_elements(By.XPATH, '(//div[@class=\"css-iwgu3j-PossessionWheel e683amr7\"])')[0].text\n",
    "allstats = driver.find_elements(By.XPATH , '(//button[@class=\"css-1isl7sd-ExpandButton e7i6a0l1\"])[2]')[0]\n",
    "time.sleep(random.randint(0, 4))\n",
    "#allstats.click()\n",
    "time.sleep(random.randint(0, 4))\n",
    "stats = driver.find_elements(By.CLASS_NAME, 'e360fsv1')[1].text\n",
    "game = driver.find_elements(By.CLASS_NAME, 'css-jkaqxa')[1].text\n",
    "times = driver.find_elements(By.CLASS_NAME, 'css-xj92le')[1].text\n",
    "driver.quit()"
   ]
  },
  {
   "cell_type": "code",
   "execution_count": 185,
   "id": "aab35e75",
   "metadata": {},
   "outputs": [],
   "source": [
    "ms = re.split(pattern = \"\\\\r?\\\\n\", string = mainst)\n",
    "os = ms[6:12]\n",
    "os.extend(ms[-9:])"
   ]
  },
  {
   "cell_type": "code",
   "execution_count": 186,
   "id": "25ae23f8",
   "metadata": {},
   "outputs": [
    {
     "data": {
      "text/plain": [
       "['11',\n",
       " 'Chances created',\n",
       " '14',\n",
       " '2',\n",
       " 'Big chances',\n",
       " '3',\n",
       " '6',\n",
       " 'Fouls conceded',\n",
       " '18',\n",
       " '9',\n",
       " 'Corners',\n",
       " '7',\n",
       " '0',\n",
       " 'Offsides',\n",
       " '8']"
      ]
     },
     "execution_count": 186,
     "metadata": {},
     "output_type": "execute_result"
    }
   ],
   "source": [
    "os"
   ]
  },
  {
   "cell_type": "code",
   "execution_count": 92,
   "id": "b5c47c72",
   "metadata": {},
   "outputs": [],
   "source": [
    "possession, stats, game, times = ebgs(url)"
   ]
  },
  {
   "cell_type": "code",
   "execution_count": 77,
   "id": "2a068ee9",
   "metadata": {},
   "outputs": [],
   "source": [
    "los = re.split(pattern = \"\\\\r?\\\\n\", string = stats)\n",
    "try:\n",
    "    los.remove('What is xG?')\n",
    "    los.remove('Keeper')\n",
    "    los.remove('Discipline')\n",
    "except:\n",
    "    pass\n"
   ]
  },
  {
   "cell_type": "code",
   "execution_count": 82,
   "id": "bd05f0e8",
   "metadata": {},
   "outputs": [],
   "source": [
    "\n",
    "columns = los[1::3]\n",
    "columns.insert(0, 'Goals')\n",
    "columns.insert(2, 'Possession')\n",
    "team1 = los[::3]\n",
    "team1.insert(0, goal1)\n",
    "team1.insert(2, pos1)\n",
    "team2 = los[2::3]\n",
    "team2.insert(0, goal2)\n",
    "team2.insert(2, pos2)"
   ]
  },
  {
   "cell_type": "code",
   "execution_count": 76,
   "id": "3be10819",
   "metadata": {},
   "outputs": [],
   "source": [
    "pos = possession.split()[-2:]\n",
    "pos1, pos2 = pos[0], pos[1]\n",
    "score = game.split()[::2]\n",
    "goal1, goal2 = score[0], score[1]"
   ]
  },
  {
   "cell_type": "code",
   "execution_count": 84,
   "id": "81a8b4f1",
   "metadata": {},
   "outputs": [],
   "source": [
    "cols = ['1 ' + word for word in columns] + ['2 ' + word for word in columns]\n",
    "gs = team1 + team2\n",
    "row = {k:v for k, v in zip(cols, gs)}"
   ]
  },
  {
   "cell_type": "code",
   "execution_count": 85,
   "id": "cb45d915",
   "metadata": {},
   "outputs": [],
   "source": [
    "fd = collections.defaultdict(list)\n",
    "for d in [row]:\n",
    "    for key, value in d.items():\n",
    "        fd[key].append(value)"
   ]
  },
  {
   "cell_type": "code",
   "execution_count": 7,
   "id": "99b53b5b",
   "metadata": {},
   "outputs": [],
   "source": [
    "def ebgs(url):\n",
    "    driver = webdriver.Chrome(service=s)\n",
    "    driver.get(url)\n",
    "    time.sleep(random.randint(0, 4))\n",
    "    mainstats = driver.find_elements(By.XPATH, '(//ul[@class=\"css-45dl0h-StatGroupContainer e683amr3\"])')[0].text\n",
    "    possession = driver.find_elements(By.XPATH, '(//div[@class=\"css-iwgu3j-PossessionWheel e683amr7\"])')[0].text\n",
    "    allstats = driver.find_elements(By.XPATH , '(//button[@class=\"css-1isl7sd-ExpandButton e7i6a0l1\"])[2]')[0]\n",
    "    allstats.click()\n",
    "    time.sleep(random.randint(0, 6))\n",
    "    stats = driver.find_elements(By.CLASS_NAME, 'e360fsv1')[1].text\n",
    "    game = driver.find_elements(By.CLASS_NAME, 'css-jkaqxa')[1].text\n",
    "    times = driver.find_elements(By.CLASS_NAME, 'css-xj92le')[1].text\n",
    "    driver.quit()\n",
    "    return mainstats, possession, stats, game, times"
   ]
  },
  {
   "cell_type": "code",
   "execution_count": null,
   "id": "91d5b49d",
   "metadata": {},
   "outputs": [],
   "source": []
  },
  {
   "cell_type": "code",
   "execution_count": 8,
   "id": "22dc59fa",
   "metadata": {},
   "outputs": [],
   "source": [
    "def getstats(url):\n",
    "    mainstats, possession, stats, game, times = ebgs(url)\n",
    "    pos = possession.split()[-2:]\n",
    "    pos1, pos2 = pos[0], pos[1]\n",
    "    score = game.split()[::2]\n",
    "    goal1, goal2 = score[0], score[1]\n",
    "    score = game.split()[::2]\n",
    "    goal1 = score[0]\n",
    "    goal2 = score[1]\n",
    "    ms = re.split(pattern = \"\\\\r?\\\\n\", string = mainst)\n",
    "    os = ms[6:12]\n",
    "    os.extend(ms[-9:])\n",
    "    los = re.split(pattern = \"\\\\r?\\\\n\", string = stats)\n",
    "    los.remove('Keeper')\n",
    "    los.remove('Discipline')\n",
    "    los.extend(os)\n",
    "    try:\n",
    "        los.remove('What is xG?')\n",
    "    except:\n",
    "        pass\n",
    "    columns = los[1::3]\n",
    "    columns.insert(0, 'Goals')\n",
    "    columns.insert(2, 'Possession')\n",
    "    team1 = los[::3]\n",
    "    team1.insert(0, goal1)\n",
    "    team1.insert(2, pos1)\n",
    "    team2 = los[2::3]\n",
    "    team2.insert(0, goal2)\n",
    "    team2.insert(2, pos2)\n",
    "    cols = ['1 ' + word for word in columns] + ['2 ' + word for word in columns]\n",
    "    gs = team1 + team2\n",
    "    row = {k:v for k, v in zip(cols, gs)}\n",
    "    name = url.split('/')[-1]\n",
    "    row['name'] = name\n",
    "    return row"
   ]
  },
  {
   "cell_type": "code",
   "execution_count": 9,
   "id": "7bb33ce1",
   "metadata": {
    "scrolled": true
   },
   "outputs": [
    {
     "ename": "NameError",
     "evalue": "name 's' is not defined",
     "output_type": "error",
     "traceback": [
      "\u001b[1;31m---------------------------------------------------------------------------\u001b[0m",
      "\u001b[1;31mNameError\u001b[0m                                 Traceback (most recent call last)",
      "\u001b[1;32m<ipython-input-9-6c3db520b8fd>\u001b[0m in \u001b[0;36m<module>\u001b[1;34m\u001b[0m\n\u001b[1;32m----> 1\u001b[1;33m \u001b[0mx\u001b[0m \u001b[1;33m=\u001b[0m \u001b[0mgetstats\u001b[0m\u001b[1;33m(\u001b[0m\u001b[1;34m\"https://www.fotmob.com/match/3657225/matchfacts/fiorentina-vs-genoa\"\u001b[0m\u001b[1;33m)\u001b[0m\u001b[1;33m\u001b[0m\u001b[1;33m\u001b[0m\u001b[0m\n\u001b[0m",
      "\u001b[1;32m<ipython-input-8-d95dc4d87b02>\u001b[0m in \u001b[0;36mgetstats\u001b[1;34m(url)\u001b[0m\n\u001b[0;32m      1\u001b[0m \u001b[1;32mdef\u001b[0m \u001b[0mgetstats\u001b[0m\u001b[1;33m(\u001b[0m\u001b[0murl\u001b[0m\u001b[1;33m)\u001b[0m\u001b[1;33m:\u001b[0m\u001b[1;33m\u001b[0m\u001b[1;33m\u001b[0m\u001b[0m\n\u001b[1;32m----> 2\u001b[1;33m     \u001b[0mmainstats\u001b[0m\u001b[1;33m,\u001b[0m \u001b[0mpossession\u001b[0m\u001b[1;33m,\u001b[0m \u001b[0mstats\u001b[0m\u001b[1;33m,\u001b[0m \u001b[0mgame\u001b[0m\u001b[1;33m,\u001b[0m \u001b[0mtimes\u001b[0m \u001b[1;33m=\u001b[0m \u001b[0mebgs\u001b[0m\u001b[1;33m(\u001b[0m\u001b[0murl\u001b[0m\u001b[1;33m)\u001b[0m\u001b[1;33m\u001b[0m\u001b[1;33m\u001b[0m\u001b[0m\n\u001b[0m\u001b[0;32m      3\u001b[0m     \u001b[0mpos\u001b[0m \u001b[1;33m=\u001b[0m \u001b[0mpossession\u001b[0m\u001b[1;33m.\u001b[0m\u001b[0msplit\u001b[0m\u001b[1;33m(\u001b[0m\u001b[1;33m)\u001b[0m\u001b[1;33m[\u001b[0m\u001b[1;33m-\u001b[0m\u001b[1;36m2\u001b[0m\u001b[1;33m:\u001b[0m\u001b[1;33m]\u001b[0m\u001b[1;33m\u001b[0m\u001b[1;33m\u001b[0m\u001b[0m\n\u001b[0;32m      4\u001b[0m     \u001b[0mpos1\u001b[0m\u001b[1;33m,\u001b[0m \u001b[0mpos2\u001b[0m \u001b[1;33m=\u001b[0m \u001b[0mpos\u001b[0m\u001b[1;33m[\u001b[0m\u001b[1;36m0\u001b[0m\u001b[1;33m]\u001b[0m\u001b[1;33m,\u001b[0m \u001b[0mpos\u001b[0m\u001b[1;33m[\u001b[0m\u001b[1;36m1\u001b[0m\u001b[1;33m]\u001b[0m\u001b[1;33m\u001b[0m\u001b[1;33m\u001b[0m\u001b[0m\n\u001b[0;32m      5\u001b[0m     \u001b[0mscore\u001b[0m \u001b[1;33m=\u001b[0m \u001b[0mgame\u001b[0m\u001b[1;33m.\u001b[0m\u001b[0msplit\u001b[0m\u001b[1;33m(\u001b[0m\u001b[1;33m)\u001b[0m\u001b[1;33m[\u001b[0m\u001b[1;33m:\u001b[0m\u001b[1;33m:\u001b[0m\u001b[1;36m2\u001b[0m\u001b[1;33m]\u001b[0m\u001b[1;33m\u001b[0m\u001b[1;33m\u001b[0m\u001b[0m\n",
      "\u001b[1;32m<ipython-input-7-cc7405eae8bb>\u001b[0m in \u001b[0;36mebgs\u001b[1;34m(url)\u001b[0m\n\u001b[0;32m      1\u001b[0m \u001b[1;32mdef\u001b[0m \u001b[0mebgs\u001b[0m\u001b[1;33m(\u001b[0m\u001b[0murl\u001b[0m\u001b[1;33m)\u001b[0m\u001b[1;33m:\u001b[0m\u001b[1;33m\u001b[0m\u001b[1;33m\u001b[0m\u001b[0m\n\u001b[1;32m----> 2\u001b[1;33m     \u001b[0mdriver\u001b[0m \u001b[1;33m=\u001b[0m \u001b[0mwebdriver\u001b[0m\u001b[1;33m.\u001b[0m\u001b[0mChrome\u001b[0m\u001b[1;33m(\u001b[0m\u001b[0mservice\u001b[0m\u001b[1;33m=\u001b[0m\u001b[0ms\u001b[0m\u001b[1;33m)\u001b[0m\u001b[1;33m\u001b[0m\u001b[1;33m\u001b[0m\u001b[0m\n\u001b[0m\u001b[0;32m      3\u001b[0m     \u001b[0mdriver\u001b[0m\u001b[1;33m.\u001b[0m\u001b[0mget\u001b[0m\u001b[1;33m(\u001b[0m\u001b[0murl\u001b[0m\u001b[1;33m)\u001b[0m\u001b[1;33m\u001b[0m\u001b[1;33m\u001b[0m\u001b[0m\n\u001b[0;32m      4\u001b[0m     \u001b[0mtime\u001b[0m\u001b[1;33m.\u001b[0m\u001b[0msleep\u001b[0m\u001b[1;33m(\u001b[0m\u001b[0mrandom\u001b[0m\u001b[1;33m.\u001b[0m\u001b[0mrandint\u001b[0m\u001b[1;33m(\u001b[0m\u001b[1;36m0\u001b[0m\u001b[1;33m,\u001b[0m \u001b[1;36m4\u001b[0m\u001b[1;33m)\u001b[0m\u001b[1;33m)\u001b[0m\u001b[1;33m\u001b[0m\u001b[1;33m\u001b[0m\u001b[0m\n\u001b[0;32m      5\u001b[0m     \u001b[0mmainstats\u001b[0m \u001b[1;33m=\u001b[0m \u001b[0mdriver\u001b[0m\u001b[1;33m.\u001b[0m\u001b[0mfind_elements\u001b[0m\u001b[1;33m(\u001b[0m\u001b[0mBy\u001b[0m\u001b[1;33m.\u001b[0m\u001b[0mXPATH\u001b[0m\u001b[1;33m,\u001b[0m \u001b[1;34m'(//ul[@class=\"css-45dl0h-StatGroupContainer e683amr3\"])'\u001b[0m\u001b[1;33m)\u001b[0m\u001b[1;33m[\u001b[0m\u001b[1;36m0\u001b[0m\u001b[1;33m]\u001b[0m\u001b[1;33m.\u001b[0m\u001b[0mtext\u001b[0m\u001b[1;33m\u001b[0m\u001b[1;33m\u001b[0m\u001b[0m\n",
      "\u001b[1;31mNameError\u001b[0m: name 's' is not defined"
     ]
    }
   ],
   "source": [
    "x = getstats(\"https://www.fotmob.com/match/3657225/matchfacts/fiorentina-vs-genoa\")"
   ]
  },
  {
   "cell_type": "code",
   "execution_count": null,
   "id": "3965064b",
   "metadata": {},
   "outputs": [],
   "source": []
  },
  {
   "cell_type": "code",
   "execution_count": 3,
   "id": "23cab332",
   "metadata": {},
   "outputs": [
    {
     "data": {
      "text/plain": [
       "'fiorentina-vs-genoa'"
      ]
     },
     "execution_count": 3,
     "metadata": {},
     "output_type": "execute_result"
    }
   ],
   "source": [
    "\"https://www.fotmob.com/match/3657225/matchfacts/fiorentina-vs-genoa\".split('/')[-1]"
   ]
  },
  {
   "cell_type": "code",
   "execution_count": null,
   "id": "595b1b37",
   "metadata": {},
   "outputs": [],
   "source": []
  }
 ],
 "metadata": {
  "kernelspec": {
   "display_name": "Python 3",
   "language": "python",
   "name": "python3"
  },
  "language_info": {
   "codemirror_mode": {
    "name": "ipython",
    "version": 3
   },
   "file_extension": ".py",
   "mimetype": "text/x-python",
   "name": "python",
   "nbconvert_exporter": "python",
   "pygments_lexer": "ipython3",
   "version": "3.8.8"
  }
 },
 "nbformat": 4,
 "nbformat_minor": 5
}
