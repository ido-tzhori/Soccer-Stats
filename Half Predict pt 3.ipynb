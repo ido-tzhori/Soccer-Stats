{
 "cells": [
  {
   "cell_type": "code",
   "execution_count": 286,
   "id": "f2fb7767",
   "metadata": {},
   "outputs": [],
   "source": [
    "import pandas as pd\n",
    "import numpy as np\n",
    "from sklearn.linear_model import LogisticRegression\n",
    "from sklearn.model_selection import train_test_split\n",
    "from sklearn.metrics import confusion_matrix\n",
    "from sklearn.metrics import ConfusionMatrixDisplay\n",
    "import random\n",
    "pd.options.mode.chained_assignment = None  # default='warn'\n",
    "import matplotlib.pyplot as plt\n",
    "import seaborn as sns\n",
    "from sklearn.metrics import accuracy_score\n",
    "import plotly.express as px\n",
    "from tkinter import *\n",
    "from selenium import webdriver\n",
    "from selenium.webdriver.chrome.service import Service\n",
    "from selenium.webdriver.common.by import By\n",
    "import time\n",
    "import re\n",
    "import pandas as pd\n",
    "import collections\n",
    "import pickle\n",
    "from itertools import combinations\n",
    "import requests\n",
    "from bs4 import BeautifulSoup\n",
    "from fractions import Fraction\n",
    "import statistics\n",
    "pd.set_option('display.max_columns', None)\n"
   ]
  },
  {
   "cell_type": "code",
   "execution_count": 3,
   "id": "595b1b37",
   "metadata": {},
   "outputs": [],
   "source": [
    "fot_cols = ['1 Accurate long balls', '1 Corners', '1 Dribbles attempted',\n",
    "       '1 Dribbles succeeded', '1 Fouls conceded', '1 Goals',\n",
    "       '1 Interceptions', '1 Long balls', '1 Offsides', '1 Pass success',\n",
    "       '1 Possession', '1 Red cards', '1 Shots', '1 Blocked shots',\n",
    "       '1 Shots woodwork', '1 Tackles attempted', '1 Throws', '1 Passes',\n",
    "       '1 Shots on target', '1 Expected goals (xG)', '1 Yellow cards',\n",
    " '2 Accurate long balls', '2 Corners', '2 Dribbles attempted',\n",
    "       '2 Dribbles succeeded', '2 Fouls conceded', '2 Goals',\n",
    "       '2 Interceptions', '2 Long balls', '2 Offsides', '2 Pass success',\n",
    "       '2 Possession', '2 Red cards', '2 Shots', '2 Blocked shots',\n",
    "       '2 Shots woodwork', '2 Tackles attempted', '2 Throws', '2 Passes',\n",
    "       '2 Shots on target', '2 Expected goals (xG)', '2 Yellow cards']"
   ]
  },
  {
   "cell_type": "code",
   "execution_count": 28,
   "id": "5b3357f4",
   "metadata": {},
   "outputs": [],
   "source": [
    "PATH = \"C:\\Program Files (x86)\\chromedriver_win32\\chromedriver.exe\"\n",
    "s=Service(PATH)\n",
    "lod = []\n",
    "loo = []"
   ]
  },
  {
   "cell_type": "code",
   "execution_count": 5,
   "id": "4b06111f",
   "metadata": {},
   "outputs": [],
   "source": [
    "df = pd.read_csv('newstats.csv', index_col = 0)\n",
    "features = df.iloc[: , :-2]\n",
    "target = df.winner\n",
    "X_train, X_test, y_train, y_test = train_test_split(features, target, random_state = 3)\n",
    "model = LogisticRegression(max_iter=100000, solver = 'lbfgs')#, class_weight = {0:0.275,1:0.462,2:0.263}, solver = 'lbfgs')\n",
    "model.fit(X=X_train, y = y_train)\n",
    "predicted = model.predict(X=X_test)\n",
    "odds = model.predict_proba(X = X_test)\n",
    "def hwin(s1, s2):\n",
    "    if s1 > s2: \n",
    "        return 1\n",
    "    elif s2 > s1:\n",
    "        return 2\n",
    "    else:\n",
    "        return 0\n",
    "X_test['fh winner'] = X_test.apply(lambda row: hwin(row['1 Goals'], row['2 Goals']), axis = 1)\n",
    "X_test['winner'] = y_test\n",
    "X_test['predicted'] = predicted\n",
    "oddf = pd.DataFrame(odds, columns = ['% Tie', '% 1 Win', '% 2 Win'], index = X_test.index)\n",
    "X_test = pd.concat([X_test, oddf], axis=1)"
   ]
  },
  {
   "cell_type": "code",
   "execution_count": 6,
   "id": "db84ec8a",
   "metadata": {},
   "outputs": [],
   "source": [
    "def kelly(p, b):\n",
    "    return round((p*(b-1) - (1-p))/(b-1), 3)"
   ]
  },
  {
   "cell_type": "code",
   "execution_count": 7,
   "id": "99b53b5b",
   "metadata": {},
   "outputs": [],
   "source": [
    "def ebgs(url):\n",
    "    driver = webdriver.Chrome(service=s)\n",
    "    driver.get(url)\n",
    "    time.sleep(random.randint(0, 4))\n",
    "    mainstats = driver.find_elements(By.XPATH, '(//ul[@class=\"css-45dl0h-StatGroupContainer e683amr3\"])')[0].text\n",
    "    possession = driver.find_elements(By.XPATH, '(//div[@class=\"css-iwgu3j-PossessionWheel e683amr7\"])')[0].text\n",
    "    allstats = driver.find_elements(By.XPATH , '(//button[@class=\"css-1isl7sd-ExpandButton e7i6a0l1\"])[2]')[0]\n",
    "    allstats.click()\n",
    "    time.sleep(random.randint(0, 6))\n",
    "    stats = driver.find_elements(By.CLASS_NAME, 'e360fsv1')[1].text\n",
    "    game = driver.find_elements(By.CLASS_NAME, 'css-jkaqxa')[1].text\n",
    "    times = driver.find_elements(By.CLASS_NAME, 'css-xj92le')[1].text\n",
    "    driver.quit()\n",
    "    return mainstats, possession, stats, game, times"
   ]
  },
  {
   "cell_type": "code",
   "execution_count": 297,
   "id": "22dc59fa",
   "metadata": {},
   "outputs": [],
   "source": [
    "def getstats(url):\n",
    "    mainstats, possession, stats, game, times = ebgs(url)\n",
    "    pos = possession.split()[-2:]\n",
    "    pos1, pos2 = pos[0], pos[1]\n",
    "    score = game.split()[::2]\n",
    "    goal1, goal2 = score[0], score[1]\n",
    "    score = game.split()[::2]\n",
    "    goal1 = score[0]\n",
    "    goal2 = score[1]\n",
    "    ms = re.split(pattern = \"\\\\r?\\\\n\", string = mainstats)\n",
    "    os = ms[6:12]\n",
    "    os.extend(ms[-9:])\n",
    "    los = re.split(pattern = \"\\\\r?\\\\n\", string = stats)\n",
    "    los.remove('Keeper')\n",
    "    los.remove('Discipline')\n",
    "    los.extend(os)\n",
    "    try:\n",
    "        los.remove('What is xG?')\n",
    "    except:\n",
    "        pass\n",
    "    columns = los[1::3]\n",
    "    columns.insert(0, 'Goals')\n",
    "    columns.insert(2, 'Possession')\n",
    "    team1 = los[::3]\n",
    "    team1.insert(0, goal1)\n",
    "    team1.insert(2, pos1)\n",
    "    team2 = los[2::3]\n",
    "    team2.insert(0, goal2)\n",
    "    team2.insert(2, pos2)\n",
    "    cols = ['1 ' + word for word in columns] + ['2 ' + word for word in columns]\n",
    "    gs = team1 + team2\n",
    "    row = {k:v for k, v in zip(cols, gs)}\n",
    "    name = url.split('/')[-1]\n",
    "    row['name'] = name\n",
    "    lod.append(row)\n",
    "    print(len(row))\n",
    "    return row"
   ]
  },
  {
   "cell_type": "code",
   "execution_count": 252,
   "id": "359434e3",
   "metadata": {},
   "outputs": [],
   "source": [
    "def getodds(url):\n",
    "    driver = webdriver.Chrome(service=s)\n",
    "    driver.get(url)\n",
    "    mainstats = driver.find_elements(By.XPATH, '//div[@class=\"defaultAnimation_dbigzdp\"]')[0].text\n",
    "    teams = re.split('vs| -', driver.find_elements(By.XPATH, '//div[@id=\"subevent-header\"]')[0].text)[:2]\n",
    "#     teams = driver.find_elements(By.XPATH, '//div[@id=\"subevent-header\"]')[0].text.split(' ')[0:3:2]\n",
    "    driver.quit()\n",
    "    odds = [[int(i) for i in x.split('/')][0]/[int(i) for i in x.split('/')][1] + 1 for x in [mainstats.split('\\n')[1::2][i] for i in [1, 0 , 2]]]\n",
    "    print(odds)\n",
    "    print(teams)\n",
    "    loo.append(odds + teams)\n",
    "    return odds"
   ]
  },
  {
   "cell_type": "code",
   "execution_count": 262,
   "id": "f245a754",
   "metadata": {},
   "outputs": [],
   "source": [
    "def getodds2(url):\n",
    "    driver = webdriver.Chrome(service=s)\n",
    "    driver.get(url)\n",
    "    odde = driver.find_elements(By.XPATH, '//tbody[@id=\"t1\"]')\n",
    "    rawodds = [odde[i].text for i in range(len(odde))]\n",
    "    driver.quit()\n",
    "    ploop = rawodds[0].split('\\n')\n",
    "    oddict = {}\n",
    "    for i in range(0, len(ploop), 2):\n",
    "        fodds = ploop[i+1].split(' ')\n",
    "        dodds = statistics.median([float(Fraction(j)) + 1.0 for j in fodds])\n",
    "        oddict[ploop[i].lower()] = dodds\n",
    "    hda = [txt.replace('-', ' ') for txt in url.split(\"/\")[-2].split('-v-')]\n",
    "    hda.insert(1, 'draw')\n",
    "    odds = {k:oddict[k] for k in hda}\n",
    "    odds = [list(odds.values())[l] for l in [1, 0, 2]]\n",
    "    print(odds)\n",
    "    return odds"
   ]
  },
  {
   "cell_type": "code",
   "execution_count": 263,
   "id": "3e795945",
   "metadata": {},
   "outputs": [],
   "source": [
    "def pred(tp, dha):\n",
    "    tp = [tp[i] for i in fot_cols]\n",
    "    tp = [float(x.strip('%'))/100 if '%' in x else float(x) for x in tp]\n",
    "    fm = np.array(tp).reshape(1,-1)\n",
    "    pp = model.predict_proba(fm)[0]\n",
    "#     dubchance = [round(sum(x),4) for x in list(combinations(pp, 2))]\n",
    "    print(f'\\033[1mwin market:\\033[0m\\n  \\tpred prob\\t\\tbook prob \\tsize')\n",
    "    for p, o, win in zip(pp, dha, ['draw', 'home','away']):\n",
    "        bookp = round(1/o, 3)\n",
    "        print(f'{win}:\\t{round(p,3)}\\t\\t\\t{bookp}\\t\\t{kelly(p, o) if p > bookp else \"\"}')\n",
    "#     for col, stat in zip(fot_cols, tp):\n",
    "#         print(col, stat)\n",
    "#     print(f'\\n\\033[1mdouble chance:\\033[0m\\n  \\tpredicted prob\\t\\tbook prob \\tsize')\n",
    "#     for p, o, win in zip(dubchance, dc, ['hwd', 'awd', 'hoaw']):\n",
    "#         bookp = round(1/o, 3)\n",
    "#         print(f'{win}:\\t{round(p,3)}\\t\\t\\t{bookp}\\t\\t{kelly(p, o) if p > bookp else \"\"}')"
   ]
  },
  {
   "cell_type": "code",
   "execution_count": 298,
   "id": "7bb33ce1",
   "metadata": {
    "scrolled": false
   },
   "outputs": [
    {
     "name": "stdout",
     "output_type": "stream",
     "text": [
      "89\n",
      "[70.0, 401.0, 1.19]\n",
      "['Hertha Berlin ', ' Bayern Munich']\n"
     ]
    }
   ],
   "source": [
    "fotlink = \"https://www.fotmob.com/match/3624515/matchfacts/hertha-bsc-vs-bayern-munchen\"\n",
    "oddslink = \"https://www.oddschecker.com/football/germany/bundesliga/hertha-berlin-v-bayern-munich/winner\"\n",
    "\n",
    "halfstats = getstats(fotlink)\n",
    "try:\n",
    "    odds = getodds(oddslink)\n",
    "except:\n",
    "    odds = getodds2(oddslink)"
   ]
  },
  {
   "cell_type": "code",
   "execution_count": 299,
   "id": "a46e3c19",
   "metadata": {
    "scrolled": true
   },
   "outputs": [
    {
     "name": "stdout",
     "output_type": "stream",
     "text": [
      "\u001b[1mwin market:\u001b[0m\n",
      "  \tpred prob\t\tbook prob \tsize\n",
      "draw:\t0.017\t\t\t0.014\t\t0.003\n",
      "home:\t0.0\t\t\t0.002\t\t\n",
      "away:\t0.983\t\t\t0.84\t\t0.892\n"
     ]
    }
   ],
   "source": [
    "pred(halfstats, odds)"
   ]
  },
  {
   "cell_type": "code",
   "execution_count": 300,
   "id": "a4b0c9a2",
   "metadata": {},
   "outputs": [],
   "source": [
    "with open(\"test\", \"wb\") as fp:\n",
    "    pickle.dump((lod,loo), fp)\n",
    "with open(\"test\", \"rb\") as fp:\n",
    "    lod, loo = pickle.load(fp)"
   ]
  }
 ],
 "metadata": {
  "kernelspec": {
   "display_name": "Python 3",
   "language": "python",
   "name": "python3"
  },
  "language_info": {
   "codemirror_mode": {
    "name": "ipython",
    "version": 3
   },
   "file_extension": ".py",
   "mimetype": "text/x-python",
   "name": "python",
   "nbconvert_exporter": "python",
   "pygments_lexer": "ipython3",
   "version": "3.8.8"
  }
 },
 "nbformat": 4,
 "nbformat_minor": 5
}
