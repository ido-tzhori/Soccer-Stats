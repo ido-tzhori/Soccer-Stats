{
 "cells": [
  {
   "cell_type": "code",
   "execution_count": 131,
   "id": "adbe1f86",
   "metadata": {},
   "outputs": [],
   "source": [
    "import pandas as pd\n",
    "import numpy as np\n",
    "from sklearn.linear_model import LogisticRegression\n",
    "from sklearn.model_selection import train_test_split\n",
    "from sklearn.metrics import confusion_matrix\n",
    "from sklearn.metrics import ConfusionMatrixDisplay\n",
    "import random\n",
    "pd.options.mode.chained_assignment = None  # default='warn'\n",
    "import matplotlib.pyplot as plt\n",
    "import seaborn as sns\n",
    "from sklearn.metrics import accuracy_score\n",
    "import plotly.express as px\n",
    "from tkinter import *\n",
    "from selenium import webdriver\n",
    "from selenium.webdriver.chrome.service import Service\n",
    "from selenium.webdriver.common.by import By\n",
    "import time\n",
    "import re\n",
    "import pandas as pd\n",
    "import collections\n",
    "import pickle\n",
    "from itertools import combinations"
   ]
  },
  {
   "cell_type": "code",
   "execution_count": 59,
   "id": "595b1b37",
   "metadata": {},
   "outputs": [],
   "source": [
    "fot_cols = ['1 Accurate long balls', '1 Corners', '1 Dribbles attempted',\n",
    "       '1 Dribbles succeeded', '1 Fouls conceded', '1 Goals',\n",
    "       '1 Interceptions', '1 Long balls', '1 Offsides', '1 Pass success',\n",
    "       '1 Possession', '1 Red cards', '1 Shots', '1 Blocked shots',\n",
    "       '1 Shots woodwork', '1 Tackles attempted', '1 Throws', '1 Passes',\n",
    "       '1 Shots on target', '1 Expected goals (xG)', '1 Yellow cards',\n",
    " '2 Accurate long balls', '2 Corners', '2 Dribbles attempted',\n",
    "       '2 Dribbles succeeded', '2 Fouls conceded', '2 Goals',\n",
    "       '2 Interceptions', '2 Long balls', '2 Offsides', '2 Pass success',\n",
    "       '2 Possession', '2 Red cards', '2 Shots', '2 Blocked shots',\n",
    "       '2 Shots woodwork', '2 Tackles attempted', '2 Throws', '2 Passes',\n",
    "       '2 Shots on target', '2 Expected goals (xG)', '2 Yellow cards']"
   ]
  },
  {
   "cell_type": "code",
   "execution_count": 54,
   "id": "5b3357f4",
   "metadata": {},
   "outputs": [],
   "source": [
    "PATH = \"C:\\Program Files (x86)\\chromedriver_win32\\chromedriver.exe\"\n",
    "s=Service(PATH)\n",
    "lod = []"
   ]
  },
  {
   "cell_type": "code",
   "execution_count": 55,
   "id": "f716cf3d",
   "metadata": {},
   "outputs": [],
   "source": [
    "df = pd.read_csv('newstats.csv', index_col = 0)\n",
    "features = df.iloc[: , :-2]\n",
    "target = df.winner\n",
    "X_train, X_test, y_train, y_test = train_test_split(features, target, random_state = 3)\n",
    "model = LogisticRegression(max_iter=100000, solver = 'lbfgs')#, class_weight = {0:0.275,1:0.462,2:0.263}, solver = 'lbfgs')\n",
    "model.fit(X=X_train, y = y_train)\n",
    "predicted = model.predict(X=X_test)\n",
    "odds = model.predict_proba(X = X_test)\n",
    "def hwin(s1, s2):\n",
    "    if s1 > s2: \n",
    "        return 1\n",
    "    elif s2 > s1:\n",
    "        return 2\n",
    "    else:\n",
    "        return 0\n",
    "X_test['fh winner'] = X_test.apply(lambda row: hwin(row['1 Goals'], row['2 Goals']), axis = 1)\n",
    "X_test['winner'] = y_test\n",
    "X_test['predicted'] = predicted\n",
    "oddf = pd.DataFrame(odds, columns = ['% Tie', '% 1 Win', '% 2 Win'], index = X_test.index)\n",
    "X_test = pd.concat([X_test, oddf], axis=1)"
   ]
  },
  {
   "cell_type": "code",
   "execution_count": 62,
   "id": "92c00457",
   "metadata": {},
   "outputs": [],
   "source": [
    "def kelly(p, b):\n",
    "    return round((p*(b-1) - (1-p))/(b-1), 3)"
   ]
  },
  {
   "cell_type": "code",
   "execution_count": 56,
   "id": "99b53b5b",
   "metadata": {},
   "outputs": [],
   "source": [
    "def ebgs(url):\n",
    "    driver = webdriver.Chrome(service=s)\n",
    "    driver.get(url)\n",
    "    time.sleep(random.randint(0, 4))\n",
    "    mainstats = driver.find_elements(By.XPATH, '(//ul[@class=\"css-45dl0h-StatGroupContainer e683amr3\"])')[0].text\n",
    "    possession = driver.find_elements(By.XPATH, '(//div[@class=\"css-iwgu3j-PossessionWheel e683amr7\"])')[0].text\n",
    "    allstats = driver.find_elements(By.XPATH , '(//button[@class=\"css-1isl7sd-ExpandButton e7i6a0l1\"])[2]')[0]\n",
    "    allstats.click()\n",
    "    time.sleep(random.randint(0, 6))\n",
    "    stats = driver.find_elements(By.CLASS_NAME, 'e360fsv1')[1].text\n",
    "    game = driver.find_elements(By.CLASS_NAME, 'css-jkaqxa')[1].text\n",
    "    times = driver.find_elements(By.CLASS_NAME, 'css-xj92le')[1].text\n",
    "    driver.quit()\n",
    "    return mainstats, possession, stats, game, times"
   ]
  },
  {
   "cell_type": "code",
   "execution_count": 74,
   "id": "22dc59fa",
   "metadata": {},
   "outputs": [],
   "source": [
    "def getstats(url):\n",
    "    mainstats, possession, stats, game, times = ebgs(url)\n",
    "    pos = possession.split()[-2:]\n",
    "    pos1, pos2 = pos[0], pos[1]\n",
    "    score = game.split()[::2]\n",
    "    goal1, goal2 = score[0], score[1]\n",
    "    score = game.split()[::2]\n",
    "    goal1 = score[0]\n",
    "    goal2 = score[1]\n",
    "    ms = re.split(pattern = \"\\\\r?\\\\n\", string = mainstats)\n",
    "    os = ms[6:12]\n",
    "    os.extend(ms[-9:])\n",
    "    los = re.split(pattern = \"\\\\r?\\\\n\", string = stats)\n",
    "    los.remove('Keeper')\n",
    "    los.remove('Discipline')\n",
    "    los.extend(os)\n",
    "    try:\n",
    "        los.remove('What is xG?')\n",
    "    except:\n",
    "        pass\n",
    "    columns = los[1::3]\n",
    "    columns.insert(0, 'Goals')\n",
    "    columns.insert(2, 'Possession')\n",
    "    team1 = los[::3]\n",
    "    team1.insert(0, goal1)\n",
    "    team1.insert(2, pos1)\n",
    "    team2 = los[2::3]\n",
    "    team2.insert(0, goal2)\n",
    "    team2.insert(2, pos2)\n",
    "    cols = ['1 ' + word for word in columns] + ['2 ' + word for word in columns]\n",
    "    gs = team1 + team2\n",
    "    row = {k:v for k, v in zip(cols, gs)}\n",
    "    name = url.split('/')[-1]\n",
    "    row['name'] = name\n",
    "    lod.append(row)\n",
    "    print(len(row))\n",
    "    return row"
   ]
  },
  {
   "cell_type": "code",
   "execution_count": 76,
   "id": "492e75c0",
   "metadata": {},
   "outputs": [],
   "source": [
    "def make_pred(tp, euro):\n",
    "    tp = [halfstats[i] for i in fot_cols]\n",
    "    tp = [float(x.strip('%'))/100 if '%' in x else float(x) for x in tp]\n",
    "    fm = np.array(tp).reshape(1,-1)\n",
    "    pp = model.predict_proba(fm)\n",
    "    print(f'  \\tpredicted prob\\t\\tbook prob \\tsize')\n",
    "    for p, o, win in zip(pp[0], euro, range(0,3)):\n",
    "        bookp = round(1/o, 3)\n",
    "        print(f'{win}:\\t{round(p,3)}\\t\\t\\t{bookp}\\t\\t{kelly(p, o) if p > bookp else \"\"}')"
   ]
  },
  {
   "cell_type": "code",
   "execution_count": 196,
   "id": "b77f78b7",
   "metadata": {},
   "outputs": [],
   "source": [
    "def pred(tp, dha):\n",
    "    tp = [halfstats[i] for i in fot_cols]\n",
    "    tp = [float(x.strip('%'))/100 if '%' in x else float(x) for x in tp]\n",
    "    fm = np.array(tp).reshape(1,-1)\n",
    "    pp = model.predict_proba(fm)[0]\n",
    "    dubchance = [round(sum(x),4) for x in list(combinations(pp, 2))]\n",
    "    print(f'\\033[1mwin market:\\033[0m\\n  \\tpred prob\\t\\tbook prob \\tsize')\n",
    "    for p, o, win in zip(pp, dha, ['draw', 'home','away']):\n",
    "        bookp = round(1/o, 3)\n",
    "        print(f'{win}:\\t{round(p,3)}\\t\\t\\t{bookp}\\t\\t{kelly(p, o) if p > bookp else \"\"}')\n",
    "#     for col, stat in zip(fot_cols, tp):\n",
    "#         print(col, stat)\n",
    "#     print(f'\\n\\033[1mdouble chance:\\033[0m\\n  \\tpredicted prob\\t\\tbook prob \\tsize')\n",
    "#     for p, o, win in zip(dubchance, dc, ['hwd', 'awd', 'hoaw']):\n",
    "#         bookp = round(1/o, 3)\n",
    "#         print(f'{win}:\\t{round(p,3)}\\t\\t\\t{bookp}\\t\\t{kelly(p, o) if p > bookp else \"\"}')"
   ]
  },
  {
   "cell_type": "code",
   "execution_count": 200,
   "id": "7bb33ce1",
   "metadata": {
    "scrolled": true
   },
   "outputs": [
    {
     "name": "stdout",
     "output_type": "stream",
     "text": [
      "89\n"
     ]
    }
   ],
   "source": [
    "url = \"https://www.fotmob.com/match/3619700/matchfacts/hull-city-vs-blackburn-rovers\"\n",
    "halfstats = getstats(url)"
   ]
  },
  {
   "cell_type": "code",
   "execution_count": 197,
   "id": "b645da86",
   "metadata": {},
   "outputs": [
    {
     "name": "stdout",
     "output_type": "stream",
     "text": [
      "\u001b[1mwin market:\u001b[0m\n",
      "  \tpred prob\t\tbook prob \tsize\n",
      "draw:\t0.561\t\t\t0.37\t\t0.302\n",
      "home:\t0.359\t\t\t0.227\t\t0.17\n",
      "away:\t0.081\t\t\t0.444\t\t\n",
      "1 Accurate long balls 14.0\n",
      "1 Corners 2.0\n",
      "1 Dribbles attempted 6.0\n",
      "1 Dribbles succeeded 3.0\n",
      "1 Fouls conceded 3.0\n",
      "1 Goals 1.0\n",
      "1 Interceptions 5.0\n",
      "1 Long balls 19.0\n",
      "1 Offsides 0.0\n",
      "1 Pass success 0.9\n",
      "1 Possession 0.54\n",
      "1 Red cards 0.0\n",
      "1 Shots 5.0\n",
      "1 Blocked shots 1.0\n",
      "1 Shots woodwork 0.0\n",
      "1 Tackles attempted 9.0\n",
      "1 Throws 6.0\n",
      "1 Passes 320.0\n",
      "1 Shots on target 2.0\n",
      "1 Expected goals (xG) 1.19\n",
      "1 Yellow cards 0.0\n",
      "2 Accurate long balls 7.0\n",
      "2 Corners 6.0\n",
      "2 Dribbles attempted 9.0\n",
      "2 Dribbles succeeded 7.0\n",
      "2 Fouls conceded 4.0\n",
      "2 Goals 1.0\n",
      "2 Interceptions 6.0\n",
      "2 Long balls 11.0\n",
      "2 Offsides 0.0\n",
      "2 Pass success 0.89\n",
      "2 Possession 0.46\n",
      "2 Red cards 0.0\n",
      "2 Shots 14.0\n",
      "2 Blocked shots 3.0\n",
      "2 Shots woodwork 1.0\n",
      "2 Tackles attempted 11.0\n",
      "2 Throws 9.0\n",
      "2 Passes 263.0\n",
      "2 Shots on target 5.0\n",
      "2 Expected goals (xG) 2.42\n",
      "2 Yellow cards 0.0\n"
     ]
    }
   ],
   "source": [
    "pred(halfstats,[2.7,4.4,2.25])"
   ]
  },
  {
   "cell_type": "code",
   "execution_count": 185,
   "id": "65da88f2",
   "metadata": {},
   "outputs": [],
   "source": [
    "with open(\"test\", \"wb\") as fp:\n",
    "    pickle.dump(lod, fp)\n",
    "with open(\"test\", \"rb\") as fp:\n",
    "    lod = pickle.load(fp)"
   ]
  }
 ],
 "metadata": {
  "kernelspec": {
   "display_name": "Python 3",
   "language": "python",
   "name": "python3"
  },
  "language_info": {
   "codemirror_mode": {
    "name": "ipython",
    "version": 3
   },
   "file_extension": ".py",
   "mimetype": "text/x-python",
   "name": "python",
   "nbconvert_exporter": "python",
   "pygments_lexer": "ipython3",
   "version": "3.8.8"
  }
 },
 "nbformat": 4,
 "nbformat_minor": 5
}
